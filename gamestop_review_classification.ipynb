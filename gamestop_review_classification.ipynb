{
 "cells": [
  {
   "cell_type": "code",
   "execution_count": 1,
   "metadata": {},
   "outputs": [
    {
     "name": "stderr",
     "output_type": "stream",
     "text": [
      "[nltk_data] Downloading package punkt to\n",
      "[nltk_data]     C:\\Users\\Miguel\\AppData\\Roaming\\nltk_data...\n",
      "[nltk_data]   Package punkt is already up-to-date!\n",
      "[nltk_data] Downloading package wordnet to\n",
      "[nltk_data]     C:\\Users\\Miguel\\AppData\\Roaming\\nltk_data...\n",
      "[nltk_data]   Package wordnet is already up-to-date!\n",
      "[nltk_data] Downloading package averaged_perceptron_tagger to\n",
      "[nltk_data]     C:\\Users\\Miguel\\AppData\\Roaming\\nltk_data...\n",
      "[nltk_data]   Package averaged_perceptron_tagger is already up-to-\n",
      "[nltk_data]       date!\n",
      "[nltk_data] Downloading package tagsets to\n",
      "[nltk_data]     C:\\Users\\Miguel\\AppData\\Roaming\\nltk_data...\n",
      "[nltk_data]   Package tagsets is already up-to-date!\n",
      "[nltk_data] Downloading package maxent_ne_chunker to\n",
      "[nltk_data]     C:\\Users\\Miguel\\AppData\\Roaming\\nltk_data...\n",
      "[nltk_data]   Package maxent_ne_chunker is already up-to-date!\n",
      "[nltk_data] Downloading package words to\n",
      "[nltk_data]     C:\\Users\\Miguel\\AppData\\Roaming\\nltk_data...\n",
      "[nltk_data]   Package words is already up-to-date!\n",
      "[nltk_data] Downloading package stopwords to\n",
      "[nltk_data]     C:\\Users\\Miguel\\AppData\\Roaming\\nltk_data...\n",
      "[nltk_data]   Package stopwords is already up-to-date!\n",
      "[nltk_data] Downloading package omw-1.4 to\n",
      "[nltk_data]     C:\\Users\\Miguel\\AppData\\Roaming\\nltk_data...\n",
      "[nltk_data]   Package omw-1.4 is already up-to-date!\n"
     ]
    }
   ],
   "source": [
    "import numpy as np\n",
    "import pandas as pd\n",
    "import nltk\n",
    "nltk.download('punkt')\n",
    "nltk.download('wordnet')\n",
    "nltk.download('averaged_perceptron_tagger')\n",
    "nltk.download('tagsets')\n",
    "nltk.download('maxent_ne_chunker')\n",
    "nltk.download('words')\n",
    "nltk.download('stopwords')\n",
    "nltk.download('omw-1.4')\n",
    "\n",
    "from nltk.corpus import stopwords\n",
    "\n",
    "import spacy\n",
    "from textacy import preprocessing\n",
    "import en_core_web_sm\n",
    "from textblob import TextBlob\n",
    "\n",
    "from tqdm import tqdm\n",
    "tqdm.pandas()\n",
    "\n",
    "from wordcloud import WordCloud\n",
    "import matplotlib.gridspec as gridspec\n",
    "from scipy.stats import chi2_contingency\n",
    "\n",
    "import seaborn as sns\n",
    "import matplotlib.pyplot as plt\n",
    "\n",
    "import string\n",
    "from functools import partial\n",
    "import contractions\n",
    "import re\n",
    "\n",
    "import gensim.downloader as api\n",
    "from sklearn.preprocessing import OneHotEncoder\n",
    "from sklearn.model_selection import train_test_split\n",
    "from sklearn.model_selection import StratifiedKFold, cross_val_predict\n",
    "from sklearn.metrics import roc_auc_score\n",
    "from sklearn.preprocessing import LabelBinarizer\n",
    "from sklearn.linear_model import LogisticRegression\n",
    "from sklearn.naive_bayes import GaussianNB\n",
    "from sklearn.ensemble import RandomForestClassifier\n",
    "from sklearn.svm import SVC\n",
    "import warnings \n",
    "\n",
    "seed = 99\n",
    "\n",
    "sns.set_style(\"darkgrid\")"
   ]
  },
  {
   "cell_type": "code",
   "execution_count": 2,
   "metadata": {},
   "outputs": [],
   "source": [
    "dataset = pd.read_csv(\"gamestop_product_reviews_dataset_sample.csv\")"
   ]
  },
  {
   "cell_type": "markdown",
   "metadata": {},
   "source": [
    "## 0. Observacion preliminar"
   ]
  },
  {
   "cell_type": "code",
   "execution_count": 3,
   "metadata": {},
   "outputs": [
    {
     "data": {
      "text/plain": [
       "(4686, 21)"
      ]
     },
     "metadata": {},
     "output_type": "display_data"
    },
    {
     "data": {
      "text/html": [
       "<div>\n",
       "<style scoped>\n",
       "    .dataframe tbody tr th:only-of-type {\n",
       "        vertical-align: middle;\n",
       "    }\n",
       "\n",
       "    .dataframe tbody tr th {\n",
       "        vertical-align: top;\n",
       "    }\n",
       "\n",
       "    .dataframe thead th {\n",
       "        text-align: right;\n",
       "    }\n",
       "</style>\n",
       "<table border=\"1\" class=\"dataframe\">\n",
       "  <thead>\n",
       "    <tr style=\"text-align: right;\">\n",
       "      <th></th>\n",
       "      <th>index</th>\n",
       "      <th>url</th>\n",
       "      <th>name</th>\n",
       "      <th>brand</th>\n",
       "      <th>sku</th>\n",
       "      <th>reviewer_name</th>\n",
       "      <th>review_title</th>\n",
       "      <th>review_description</th>\n",
       "      <th>recommended_review</th>\n",
       "      <th>verifed_purchaser</th>\n",
       "      <th>helpful_count</th>\n",
       "      <th>not_helpful_count</th>\n",
       "      <th>reviewed_at</th>\n",
       "      <th>images</th>\n",
       "      <th>rating</th>\n",
       "      <th>average_rating</th>\n",
       "      <th>reviews_count</th>\n",
       "      <th>reviews_link</th>\n",
       "      <th>comment_id</th>\n",
       "      <th>uniq_id</th>\n",
       "      <th>scraped_at</th>\n",
       "    </tr>\n",
       "  </thead>\n",
       "  <tbody>\n",
       "    <tr>\n",
       "      <th>0</th>\n",
       "      <td>0</td>\n",
       "      <td>https://www.gamestop.com/electronics/tvs-monit...</td>\n",
       "      <td>VIZIO 55-in Class OLED 4K HDR Smart TV OLED55-H1</td>\n",
       "      <td>VIZIO</td>\n",
       "      <td>328244</td>\n",
       "      <td>Leeford</td>\n",
       "      <td>NaN</td>\n",
       "      <td>My new OLED is a upgrade and it's great!  This...</td>\n",
       "      <td>yes: I recommend this product</td>\n",
       "      <td>NaN</td>\n",
       "      <td>0</td>\n",
       "      <td>0</td>\n",
       "      <td>10 months ago</td>\n",
       "      <td>NaN</td>\n",
       "      <td>5.0</td>\n",
       "      <td>4.2727</td>\n",
       "      <td>363</td>\n",
       "      <td>https://www.gamestop.com/on/demandware.store/S...</td>\n",
       "      <td>229196240</td>\n",
       "      <td>d749678d-aeba-5a6b-b8e2-8d2121463672</td>\n",
       "      <td>16/01/2022 16:17:56</td>\n",
       "    </tr>\n",
       "    <tr>\n",
       "      <th>1</th>\n",
       "      <td>1</td>\n",
       "      <td>https://www.gamestop.com/electronics/tvs-monit...</td>\n",
       "      <td>VIZIO 55-in Class OLED 4K HDR Smart TV OLED55-H1</td>\n",
       "      <td>VIZIO</td>\n",
       "      <td>328244</td>\n",
       "      <td>DJM7</td>\n",
       "      <td>Great looking screen!</td>\n",
       "      <td>Rating is really a 4.5 but that's unavailable....</td>\n",
       "      <td>yes: I recommend this product</td>\n",
       "      <td>NaN</td>\n",
       "      <td>0</td>\n",
       "      <td>0</td>\n",
       "      <td>10 months ago</td>\n",
       "      <td>NaN</td>\n",
       "      <td>4.0</td>\n",
       "      <td>4.2727</td>\n",
       "      <td>363</td>\n",
       "      <td>https://www.gamestop.com/on/demandware.store/S...</td>\n",
       "      <td>229179703</td>\n",
       "      <td>9f20312c-1047-5824-97d2-d5563b8fd046</td>\n",
       "      <td>16/01/2022 16:17:56</td>\n",
       "    </tr>\n",
       "    <tr>\n",
       "      <th>2</th>\n",
       "      <td>2</td>\n",
       "      <td>https://www.gamestop.com/electronics/tvs-monit...</td>\n",
       "      <td>VIZIO 55-in Class OLED 4K HDR Smart TV OLED55-H1</td>\n",
       "      <td>VIZIO</td>\n",
       "      <td>328244</td>\n",
       "      <td>EC82</td>\n",
       "      <td>Quality</td>\n",
       "      <td>I’m quite pleased with the entire product as a...</td>\n",
       "      <td>yes: I recommend this product</td>\n",
       "      <td>NaN</td>\n",
       "      <td>0</td>\n",
       "      <td>0</td>\n",
       "      <td>10 months ago</td>\n",
       "      <td>NaN</td>\n",
       "      <td>4.0</td>\n",
       "      <td>4.2727</td>\n",
       "      <td>363</td>\n",
       "      <td>https://www.gamestop.com/on/demandware.store/S...</td>\n",
       "      <td>229174444</td>\n",
       "      <td>178b3b03-2c56-5abc-a016-c74c2633c9c2</td>\n",
       "      <td>16/01/2022 16:17:56</td>\n",
       "    </tr>\n",
       "    <tr>\n",
       "      <th>3</th>\n",
       "      <td>3</td>\n",
       "      <td>https://www.gamestop.com/electronics/tvs-monit...</td>\n",
       "      <td>VIZIO 55-in Class OLED 4K HDR Smart TV OLED55-H1</td>\n",
       "      <td>VIZIO</td>\n",
       "      <td>328244</td>\n",
       "      <td>Weeto</td>\n",
       "      <td>Unbelievable picture quality!</td>\n",
       "      <td>I’ve only had my new Visio OLED65 mounted and ...</td>\n",
       "      <td>yes: I recommend this product</td>\n",
       "      <td>NaN</td>\n",
       "      <td>0</td>\n",
       "      <td>0</td>\n",
       "      <td>10 months ago</td>\n",
       "      <td>NaN</td>\n",
       "      <td>2.0</td>\n",
       "      <td>4.2727</td>\n",
       "      <td>363</td>\n",
       "      <td>https://www.gamestop.com/on/demandware.store/S...</td>\n",
       "      <td>229167959</td>\n",
       "      <td>16e925e3-1e59-537e-aa67-1675b613d351</td>\n",
       "      <td>16/01/2022 16:17:56</td>\n",
       "    </tr>\n",
       "    <tr>\n",
       "      <th>4</th>\n",
       "      <td>4</td>\n",
       "      <td>https://www.gamestop.com/electronics/tvs-monit...</td>\n",
       "      <td>VIZIO 55-in Class OLED 4K HDR Smart TV OLED55-H1</td>\n",
       "      <td>VIZIO</td>\n",
       "      <td>328244</td>\n",
       "      <td>LexusSC400</td>\n",
       "      <td>Vizio OLED</td>\n",
       "      <td>The picture is very crisp and the blacks very ...</td>\n",
       "      <td>yes: I recommend this product</td>\n",
       "      <td>NaN</td>\n",
       "      <td>0</td>\n",
       "      <td>0</td>\n",
       "      <td>10 months ago</td>\n",
       "      <td>NaN</td>\n",
       "      <td>5.0</td>\n",
       "      <td>4.2727</td>\n",
       "      <td>363</td>\n",
       "      <td>https://www.gamestop.com/on/demandware.store/S...</td>\n",
       "      <td>229131414</td>\n",
       "      <td>bc017585-3bc1-5a37-9e58-f0bed6de9a72</td>\n",
       "      <td>16/01/2022 16:17:56</td>\n",
       "    </tr>\n",
       "  </tbody>\n",
       "</table>\n",
       "</div>"
      ],
      "text/plain": [
       "   index                                                url  \\\n",
       "0      0  https://www.gamestop.com/electronics/tvs-monit...   \n",
       "1      1  https://www.gamestop.com/electronics/tvs-monit...   \n",
       "2      2  https://www.gamestop.com/electronics/tvs-monit...   \n",
       "3      3  https://www.gamestop.com/electronics/tvs-monit...   \n",
       "4      4  https://www.gamestop.com/electronics/tvs-monit...   \n",
       "\n",
       "                                               name  brand     sku  \\\n",
       "0  VIZIO 55-in Class OLED 4K HDR Smart TV OLED55-H1  VIZIO  328244   \n",
       "1  VIZIO 55-in Class OLED 4K HDR Smart TV OLED55-H1  VIZIO  328244   \n",
       "2  VIZIO 55-in Class OLED 4K HDR Smart TV OLED55-H1  VIZIO  328244   \n",
       "3  VIZIO 55-in Class OLED 4K HDR Smart TV OLED55-H1  VIZIO  328244   \n",
       "4  VIZIO 55-in Class OLED 4K HDR Smart TV OLED55-H1  VIZIO  328244   \n",
       "\n",
       "  reviewer_name                   review_title  \\\n",
       "0       Leeford                            NaN   \n",
       "1          DJM7          Great looking screen!   \n",
       "2          EC82                        Quality   \n",
       "3         Weeto  Unbelievable picture quality!   \n",
       "4    LexusSC400                     Vizio OLED   \n",
       "\n",
       "                                  review_description  \\\n",
       "0  My new OLED is a upgrade and it's great!  This...   \n",
       "1  Rating is really a 4.5 but that's unavailable....   \n",
       "2  I’m quite pleased with the entire product as a...   \n",
       "3  I’ve only had my new Visio OLED65 mounted and ...   \n",
       "4  The picture is very crisp and the blacks very ...   \n",
       "\n",
       "              recommended_review verifed_purchaser  helpful_count  \\\n",
       "0  yes: I recommend this product               NaN              0   \n",
       "1  yes: I recommend this product               NaN              0   \n",
       "2  yes: I recommend this product               NaN              0   \n",
       "3  yes: I recommend this product               NaN              0   \n",
       "4  yes: I recommend this product               NaN              0   \n",
       "\n",
       "   not_helpful_count    reviewed_at images  rating  average_rating  \\\n",
       "0                  0  10 months ago    NaN     5.0          4.2727   \n",
       "1                  0  10 months ago    NaN     4.0          4.2727   \n",
       "2                  0  10 months ago    NaN     4.0          4.2727   \n",
       "3                  0  10 months ago    NaN     2.0          4.2727   \n",
       "4                  0  10 months ago    NaN     5.0          4.2727   \n",
       "\n",
       "   reviews_count                                       reviews_link  \\\n",
       "0            363  https://www.gamestop.com/on/demandware.store/S...   \n",
       "1            363  https://www.gamestop.com/on/demandware.store/S...   \n",
       "2            363  https://www.gamestop.com/on/demandware.store/S...   \n",
       "3            363  https://www.gamestop.com/on/demandware.store/S...   \n",
       "4            363  https://www.gamestop.com/on/demandware.store/S...   \n",
       "\n",
       "   comment_id                               uniq_id           scraped_at  \n",
       "0   229196240  d749678d-aeba-5a6b-b8e2-8d2121463672  16/01/2022 16:17:56  \n",
       "1   229179703  9f20312c-1047-5824-97d2-d5563b8fd046  16/01/2022 16:17:56  \n",
       "2   229174444  178b3b03-2c56-5abc-a016-c74c2633c9c2  16/01/2022 16:17:56  \n",
       "3   229167959  16e925e3-1e59-537e-aa67-1675b613d351  16/01/2022 16:17:56  \n",
       "4   229131414  bc017585-3bc1-5a37-9e58-f0bed6de9a72  16/01/2022 16:17:56  "
      ]
     },
     "execution_count": 3,
     "metadata": {},
     "output_type": "execute_result"
    }
   ],
   "source": [
    "display(dataset.shape)\n",
    "pd.set_option('display.max_columns', 21)\n",
    "dataset.head()"
   ]
  },
  {
   "cell_type": "code",
   "execution_count": 4,
   "metadata": {},
   "outputs": [
    {
     "name": "stdout",
     "output_type": "stream",
     "text": [
      "<class 'pandas.core.frame.DataFrame'>\n",
      "RangeIndex: 4686 entries, 0 to 4685\n",
      "Data columns (total 21 columns):\n",
      " #   Column              Non-Null Count  Dtype  \n",
      "---  ------              --------------  -----  \n",
      " 0   index               4686 non-null   int64  \n",
      " 1   url                 4686 non-null   object \n",
      " 2   name                4686 non-null   object \n",
      " 3   brand               4686 non-null   object \n",
      " 4   sku                 4686 non-null   int64  \n",
      " 5   reviewer_name       4686 non-null   object \n",
      " 6   review_title        4621 non-null   object \n",
      " 7   review_description  4686 non-null   object \n",
      " 8   recommended_review  4686 non-null   object \n",
      " 9   verifed_purchaser   2406 non-null   object \n",
      " 10  helpful_count       4686 non-null   int64  \n",
      " 11  not_helpful_count   4686 non-null   int64  \n",
      " 12  reviewed_at         4686 non-null   object \n",
      " 13  images              166 non-null    object \n",
      " 14  rating              4686 non-null   float64\n",
      " 15  average_rating      4686 non-null   float64\n",
      " 16  reviews_count       4686 non-null   int64  \n",
      " 17  reviews_link        4686 non-null   object \n",
      " 18  comment_id          4686 non-null   int64  \n",
      " 19  uniq_id             4686 non-null   object \n",
      " 20  scraped_at          4686 non-null   object \n",
      "dtypes: float64(2), int64(6), object(13)\n",
      "memory usage: 768.9+ KB\n"
     ]
    }
   ],
   "source": [
    "dataset.info()"
   ]
  },
  {
   "cell_type": "code",
   "execution_count": 5,
   "metadata": {},
   "outputs": [
    {
     "data": {
      "text/html": [
       "<div>\n",
       "<style scoped>\n",
       "    .dataframe tbody tr th:only-of-type {\n",
       "        vertical-align: middle;\n",
       "    }\n",
       "\n",
       "    .dataframe tbody tr th {\n",
       "        vertical-align: top;\n",
       "    }\n",
       "\n",
       "    .dataframe thead th {\n",
       "        text-align: right;\n",
       "    }\n",
       "</style>\n",
       "<table border=\"1\" class=\"dataframe\">\n",
       "  <thead>\n",
       "    <tr style=\"text-align: right;\">\n",
       "      <th></th>\n",
       "      <th>index</th>\n",
       "    </tr>\n",
       "    <tr>\n",
       "      <th>recommended_review</th>\n",
       "      <th></th>\n",
       "    </tr>\n",
       "  </thead>\n",
       "  <tbody>\n",
       "    <tr>\n",
       "      <th>No: I don’t recommend this product</th>\n",
       "      <td>1465</td>\n",
       "    </tr>\n",
       "    <tr>\n",
       "      <th>yes: I recommend this product</th>\n",
       "      <td>3221</td>\n",
       "    </tr>\n",
       "  </tbody>\n",
       "</table>\n",
       "</div>"
      ],
      "text/plain": [
       "                                    index\n",
       "recommended_review                       \n",
       "No: I don’t recommend this product   1465\n",
       "yes: I recommend this product        3221"
      ]
     },
     "execution_count": 5,
     "metadata": {},
     "output_type": "execute_result"
    },
    {
     "data": {
      "image/png": "[encoded data removed]",
      "text/plain": [
       "<Figure size 640x480 with 1 Axes>"
      ]
     },
     "metadata": {},
     "output_type": "display_data"
    }
   ],
   "source": [
    "sns.countplot(x ='recommended_review', data = dataset)\n",
    "dataset.groupby(['recommended_review']).agg({\"index\":\"count\"})"
   ]
  },
  {
   "cell_type": "code",
   "execution_count": 6,
   "metadata": {},
   "outputs": [
    {
     "data": {
      "text/plain": [
       "index                 4686\n",
       "url                    124\n",
       "name                   124\n",
       "brand                   70\n",
       "sku                    124\n",
       "reviewer_name         4452\n",
       "review_title          3831\n",
       "review_description    4684\n",
       "recommended_review       2\n",
       "verifed_purchaser        1\n",
       "helpful_count           38\n",
       "not_helpful_count       45\n",
       "reviewed_at             57\n",
       "images                 166\n",
       "rating                   5\n",
       "average_rating          92\n",
       "reviews_count           72\n",
       "reviews_link           543\n",
       "comment_id            4686\n",
       "uniq_id               4686\n",
       "scraped_at              95\n",
       "dtype: int64"
      ]
     },
     "execution_count": 6,
     "metadata": {},
     "output_type": "execute_result"
    }
   ],
   "source": [
    "dataset.nunique()"
   ]
  },
  {
   "cell_type": "code",
   "execution_count": 7,
   "metadata": {},
   "outputs": [
    {
     "data": {
      "text/plain": [
       "index                    0\n",
       "url                      0\n",
       "name                     0\n",
       "brand                    0\n",
       "sku                      0\n",
       "reviewer_name            0\n",
       "review_title            65\n",
       "review_description       0\n",
       "recommended_review       0\n",
       "verifed_purchaser     2280\n",
       "helpful_count            0\n",
       "not_helpful_count        0\n",
       "reviewed_at              0\n",
       "images                4520\n",
       "rating                   0\n",
       "average_rating           0\n",
       "reviews_count            0\n",
       "reviews_link             0\n",
       "comment_id               0\n",
       "uniq_id                  0\n",
       "scraped_at               0\n",
       "dtype: int64"
      ]
     },
     "execution_count": 7,
     "metadata": {},
     "output_type": "execute_result"
    }
   ],
   "source": [
    "dataset.isna().sum()"
   ]
  },
  {
   "cell_type": "markdown",
   "metadata": {},
   "source": [
    "### 0.1 Limpieza de datos"
   ]
  },
  {
   "cell_type": "code",
   "execution_count": 8,
   "metadata": {},
   "outputs": [],
   "source": [
    "dataset = dataset.drop([\"url\",\"images\",\"comment_id\",\"uniq_id\",\"scraped_at\",\"reviews_link\",\"sku\",\"reviewer_name\",\"index\",\"helpful_count\",\"not_helpful_count\"],axis=1)"
   ]
  },
  {
   "cell_type": "code",
   "execution_count": 9,
   "metadata": {},
   "outputs": [
    {
     "data": {
      "text/html": [
       "<div>\n",
       "<style scoped>\n",
       "    .dataframe tbody tr th:only-of-type {\n",
       "        vertical-align: middle;\n",
       "    }\n",
       "\n",
       "    .dataframe tbody tr th {\n",
       "        vertical-align: top;\n",
       "    }\n",
       "\n",
       "    .dataframe thead th {\n",
       "        text-align: right;\n",
       "    }\n",
       "</style>\n",
       "<table border=\"1\" class=\"dataframe\">\n",
       "  <thead>\n",
       "    <tr style=\"text-align: right;\">\n",
       "      <th></th>\n",
       "      <th>name</th>\n",
       "      <th>brand</th>\n",
       "      <th>review_title</th>\n",
       "      <th>review_description</th>\n",
       "      <th>recommended_review</th>\n",
       "      <th>verifed_purchaser</th>\n",
       "      <th>reviewed_at</th>\n",
       "      <th>rating</th>\n",
       "      <th>average_rating</th>\n",
       "      <th>reviews_count</th>\n",
       "    </tr>\n",
       "  </thead>\n",
       "  <tbody>\n",
       "    <tr>\n",
       "      <th>0</th>\n",
       "      <td>VIZIO 55-in Class OLED 4K HDR Smart TV OLED55-H1</td>\n",
       "      <td>VIZIO</td>\n",
       "      <td>NaN</td>\n",
       "      <td>My new OLED is a upgrade and it's great!  This...</td>\n",
       "      <td>yes: I recommend this product</td>\n",
       "      <td>NaN</td>\n",
       "      <td>10 months ago</td>\n",
       "      <td>5.0</td>\n",
       "      <td>4.2727</td>\n",
       "      <td>363</td>\n",
       "    </tr>\n",
       "    <tr>\n",
       "      <th>1</th>\n",
       "      <td>VIZIO 55-in Class OLED 4K HDR Smart TV OLED55-H1</td>\n",
       "      <td>VIZIO</td>\n",
       "      <td>Great looking screen!</td>\n",
       "      <td>Rating is really a 4.5 but that's unavailable....</td>\n",
       "      <td>yes: I recommend this product</td>\n",
       "      <td>NaN</td>\n",
       "      <td>10 months ago</td>\n",
       "      <td>4.0</td>\n",
       "      <td>4.2727</td>\n",
       "      <td>363</td>\n",
       "    </tr>\n",
       "  </tbody>\n",
       "</table>\n",
       "</div>"
      ],
      "text/plain": [
       "                                               name  brand  \\\n",
       "0  VIZIO 55-in Class OLED 4K HDR Smart TV OLED55-H1  VIZIO   \n",
       "1  VIZIO 55-in Class OLED 4K HDR Smart TV OLED55-H1  VIZIO   \n",
       "\n",
       "            review_title                                 review_description  \\\n",
       "0                    NaN  My new OLED is a upgrade and it's great!  This...   \n",
       "1  Great looking screen!  Rating is really a 4.5 but that's unavailable....   \n",
       "\n",
       "              recommended_review verifed_purchaser    reviewed_at  rating  \\\n",
       "0  yes: I recommend this product               NaN  10 months ago     5.0   \n",
       "1  yes: I recommend this product               NaN  10 months ago     4.0   \n",
       "\n",
       "   average_rating  reviews_count  \n",
       "0          4.2727            363  \n",
       "1          4.2727            363  "
      ]
     },
     "execution_count": 9,
     "metadata": {},
     "output_type": "execute_result"
    }
   ],
   "source": [
    "dataset.head(2)"
   ]
  },
  {
   "cell_type": "markdown",
   "metadata": {},
   "source": [
    "**Dimensiones del dataset**\n",
    "  - Observamos el número de documentos y variables como ya se habia observado de forma preliminar con el método .info(). "
   ]
  },
  {
   "cell_type": "code",
   "execution_count": 10,
   "metadata": {},
   "outputs": [
    {
     "name": "stdout",
     "output_type": "stream",
     "text": [
      "El conjunto de reviews tiene 4686 documentos\n",
      "El dataframe tiene 10 columnas\n"
     ]
    }
   ],
   "source": [
    "print(\"El conjunto de reviews tiene {} documentos\".format(len(dataset)))\n",
    "print(\"El dataframe tiene {} columnas\".format(dataset.shape[1]))"
   ]
  },
  {
   "cell_type": "markdown",
   "metadata": {},
   "source": [
    "**Duplicados**\n",
    "  - Comprobamos si existen documentos duplicados en cuanto al texto de las reviews. "
   ]
  },
  {
   "cell_type": "code",
   "execution_count": 11,
   "metadata": {},
   "outputs": [
    {
     "name": "stdout",
     "output_type": "stream",
     "text": [
      "Existen 2 reviews duplicadas\n"
     ]
    }
   ],
   "source": [
    "print(\"Existen {} reviews duplicadas\".format(np.sum(dataset.duplicated(subset=[\"review_description\"])))) "
   ]
  },
  {
   "cell_type": "code",
   "execution_count": 12,
   "metadata": {},
   "outputs": [],
   "source": [
    "dataset.drop_duplicates(inplace=True)"
   ]
  },
  {
   "cell_type": "markdown",
   "metadata": {},
   "source": [
    "**Valores nulos**\n",
    "  - Comprobamos que no haya execsivos nulls en ningunas de las columnas del dataset"
   ]
  },
  {
   "cell_type": "code",
   "execution_count": 13,
   "metadata": {},
   "outputs": [
    {
     "data": {
      "text/plain": [
       "name                     0\n",
       "brand                    0\n",
       "review_title            65\n",
       "review_description       0\n",
       "recommended_review       0\n",
       "verifed_purchaser     2278\n",
       "reviewed_at              0\n",
       "rating                   0\n",
       "average_rating           0\n",
       "reviews_count            0\n",
       "dtype: int64"
      ]
     },
     "execution_count": 13,
     "metadata": {},
     "output_type": "execute_result"
    }
   ],
   "source": [
    "dataset.isna().sum()"
   ]
  },
  {
   "cell_type": "markdown",
   "metadata": {},
   "source": [
    "Se limpian los nulls de verified purchase y se convierte en tipo int para ahorrar memoria."
   ]
  },
  {
   "cell_type": "code",
   "execution_count": 14,
   "metadata": {},
   "outputs": [
    {
     "name": "stderr",
     "output_type": "stream",
     "text": [
      "C:\\Users\\Miguel\\AppData\\Local\\Temp\\ipykernel_4160\\1077654209.py:1: FutureWarning: Downcasting behavior in `replace` is deprecated and will be removed in a future version. To retain the old behavior, explicitly call `result.infer_objects(copy=False)`. To opt-in to the future behavior, set `pd.set_option('future.no_silent_downcasting', True)`\n",
      "  dataset[\"verifed_purchaser\"] = dataset[\"verifed_purchaser\"].fillna(0).replace({\"Verified Purchaser\":1}).astype(int)\n"
     ]
    }
   ],
   "source": [
    "dataset[\"verifed_purchaser\"] = dataset[\"verifed_purchaser\"].fillna(0).replace({\"Verified Purchaser\":1}).astype(int)"
   ]
  },
  {
   "cell_type": "markdown",
   "metadata": {},
   "source": [
    "Se realiza lo mismo con la variable \"recommended_review\"."
   ]
  },
  {
   "cell_type": "code",
   "execution_count": 15,
   "metadata": {},
   "outputs": [
    {
     "name": "stderr",
     "output_type": "stream",
     "text": [
      "C:\\Users\\Miguel\\AppData\\Local\\Temp\\ipykernel_4160\\3265685833.py:1: FutureWarning: Downcasting behavior in `replace` is deprecated and will be removed in a future version. To retain the old behavior, explicitly call `result.infer_objects(copy=False)`. To opt-in to the future behavior, set `pd.set_option('future.no_silent_downcasting', True)`\n",
      "  dataset[\"recommended_review\"] = dataset[\"recommended_review\"].replace({\"yes: I recommend this product\":1,\"No: I don’t recommend this product\":0}).astype(int)\n"
     ]
    }
   ],
   "source": [
    "dataset[\"recommended_review\"] = dataset[\"recommended_review\"].replace({\"yes: I recommend this product\":1,\"No: I don’t recommend this product\":0}).astype(int)"
   ]
  },
  {
   "cell_type": "markdown",
   "metadata": {},
   "source": [
    "**Distribución de la longitud de las reviews en caracteres:**\n",
    "\n",
    "Calculamos la longitud de cada uno de los textos de los documentos para después dibujar su histograma, de esta forma podremos comprobar si es un parámetro que pudiera ayudar en la clasificación de las reviews."
   ]
  },
  {
   "cell_type": "code",
   "execution_count": 16,
   "metadata": {},
   "outputs": [
    {
     "name": "stderr",
     "output_type": "stream",
     "text": [
      "100%|██████████| 4684/4684 [00:00<00:00, 519601.16it/s]"
     ]
    },
    {
     "name": "stderr",
     "output_type": "stream",
     "text": [
      "\n"
     ]
    }
   ],
   "source": [
    "dataset[\"char_len\"] = dataset[\"review_description\"].progress_apply(lambda x: len(x))"
   ]
  },
  {
   "cell_type": "code",
   "execution_count": 17,
   "metadata": {},
   "outputs": [
    {
     "data": {
      "image/png": "[encoded data removed]",
      "text/plain": [
       "<Figure size 1200x1000 with 1 Axes>"
      ]
     },
     "metadata": {},
     "output_type": "display_data"
    }
   ],
   "source": [
    "fig = plt.figure(figsize=(12,10))\n",
    "\n",
    "\n",
    "sns.histplot(dataset,x=\"char_len\", hue=\"recommended_review\", kde=True)\n",
    "\n",
    "\n",
    "plt.xlabel('Caracteres', fontsize=14)\n",
    "plt.ylabel('Frecuencia absoluta', fontsize=14)\n",
    "\n",
    "plt.show()"
   ]
  },
  {
   "cell_type": "markdown",
   "metadata": {},
   "source": [
    "No hay una diferencia visualmente llamativa en la distribución de la longitud de las reviews que recomiendan y no recomiendan el producto."
   ]
  },
  {
   "cell_type": "markdown",
   "metadata": {},
   "source": [
    "**Observar sample del contenido de las reviews con recomendadas y no recomendas**"
   ]
  },
  {
   "cell_type": "code",
   "execution_count": 18,
   "metadata": {},
   "outputs": [
    {
     "data": {
      "text/plain": [
       "['THE best FPS on the switch. I have not stop playing this game since I got it. Love the story mode AND the multiplayer. SO Fun and fast paced!',\n",
       " \"granted, this isn't a ultra gaming monitor, so it doesn't have amazing specs, but it's a great value for it's price. 144 hrz made a big difference. my only complaint is that the stand is kind of oddly shaped, so it has a hard time sitting flush with my desk. all the weight seems to sit at the front of the stand, so i'm confused why it goes back like 5 inches. would also be nice if there was some sort of mounting hookup.\",\n",
       " \"[This review was collected as part of a promotion.] Got this to have a spare.  Its doesn't have the exact same feel in your hand as an original controller, and the toggles on the top are a little stiffer.  Other than that the functionality is pretty much spot on.  I love the retro look to the controller.  Im an old school Mario fan, so this is definitely spot on for my taste.\"]"
      ]
     },
     "execution_count": 18,
     "metadata": {},
     "output_type": "execute_result"
    }
   ],
   "source": [
    "dataset.query(\"recommended_review ==1\").sample(3).review_description.to_list()"
   ]
  },
  {
   "cell_type": "code",
   "execution_count": 19,
   "metadata": {},
   "outputs": [
    {
     "data": {
      "text/plain": [
       "[\"It's a fun game I just dont like how it plays short films that you can not skip and I've been unable to find a way to purchase other cars through points I've earned in the game.\",\n",
       " \"You guys sent me a European Game. I meanit works fine and everything it's still in english and the Switch is region free but don't you guys not take foreign games?\",\n",
       " 'It’s a fun game great graphics and dope cars definitely recommend']"
      ]
     },
     "execution_count": 19,
     "metadata": {},
     "output_type": "execute_result"
    }
   ],
   "source": [
    "dataset.query(\"recommended_review ==0\").sample(3).review_description.to_list()"
   ]
  },
  {
   "cell_type": "markdown",
   "metadata": {},
   "source": [
    "Parece que hay una etiqueta importante en las reviews que es \"[This review was collected as part of a promotion.]\". Esta etiqueta no contribuye a la sintaxis del documento y probablemente funcione mejor como una variable separada a tener en cuenta en la tarea de clasificación de sentimiento."
   ]
  },
  {
   "cell_type": "code",
   "execution_count": 20,
   "metadata": {},
   "outputs": [
    {
     "data": {
      "text/plain": [
       "promoted\n",
       "0    3676\n",
       "1    1008\n",
       "Name: count, dtype: int64"
      ]
     },
     "execution_count": 20,
     "metadata": {},
     "output_type": "execute_result"
    }
   ],
   "source": [
    "dataset[\"promoted\"] = np.where(dataset[\"review_description\"].str.startswith(\"[This review was collected as part of a promotion.]\"), 1, 0).astype(int)\n",
    "dataset[\"review_description\"] = dataset[\"review_description\"].replace({\"[This review was collected as part of a promotion.] \":\"\"})\n",
    "dataset[\"promoted\"].value_counts()"
   ]
  },
  {
   "cell_type": "markdown",
   "metadata": {},
   "source": [
    "## 1. Preprocesado y Normalización"
   ]
  },
  {
   "cell_type": "markdown",
   "metadata": {},
   "source": [
    "- Eliminar símbolos, separar palabras unidas por guiones, eliminar acentos, etc.\n",
    "- Reemplazar jerga\n",
    "- Normalizar palabras elongadas\n",
    "- Normalizar contracciones\n",
    "- Corregir ortografía\n",
    "- Pasar a minúsculas\n",
    "- Tokenizar\n",
    "- Eliminar signos de puntuación y stopwords\n",
    "\n",
    "A diferencia de otros campos, no se ha demostrado que la lematización ayude a mejorar el rendimiento de los clasificadores de sentimiento por lo que no es necesario aplicarla."
   ]
  },
  {
   "cell_type": "code",
   "execution_count": 21,
   "metadata": {},
   "outputs": [],
   "source": [
    "slang_dict = {\n",
    "    \"$\" : \" dollar \",\n",
    "    \"€\" : \" euro \",\n",
    "    \"4ao\" : \"for adults only\",\n",
    "    \"a.m\" : \"before midday\",\n",
    "    \"a3\" : \"anytime anywhere anyplace\",\n",
    "    \"aamof\" : \"as a matter of fact\",\n",
    "    \"acct\" : \"account\",\n",
    "    \"adih\" : \"another day in hell\",\n",
    "    \"afaic\" : \"as far as i am concerned\",\n",
    "    \"afaict\" : \"as far as i can tell\",\n",
    "    \"afaik\" : \"as far as i know\",\n",
    "    \"afair\" : \"as far as i remember\",\n",
    "    \"afk\" : \"away from keyboard\",\n",
    "    \"app\" : \"application\",\n",
    "    \"approx\" : \"approximately\",\n",
    "    \"apps\" : \"applications\",\n",
    "    \"asap\" : \"as soon as possible\",\n",
    "    \"asl\" : \"age, sex, location\",\n",
    "    \"atk\" : \"at the keyboard\",\n",
    "    \"ave.\" : \"avenue\",\n",
    "    \"aymm\" : \"are you my mother\",\n",
    "    \"ayor\" : \"at your own risk\", \n",
    "    \"b&b\" : \"bed and breakfast\",\n",
    "    \"b+b\" : \"bed and breakfast\",\n",
    "    \"b.c\" : \"before christ\",\n",
    "    \"b2b\" : \"business to business\",\n",
    "    \"b2c\" : \"business to customer\",\n",
    "    \"b4\" : \"before\",\n",
    "    \"b4n\" : \"bye for now\",\n",
    "    \"b@u\" : \"back at you\",\n",
    "    \"bae\" : \"before anyone else\",\n",
    "    \"bak\" : \"back at keyboard\",\n",
    "    \"bbbg\" : \"bye bye be good\",\n",
    "    \"bbc\" : \"british broadcasting corporation\",\n",
    "    \"bbias\" : \"be back in a second\",\n",
    "    \"bbl\" : \"be back later\",\n",
    "    \"bbs\" : \"be back soon\",\n",
    "    \"be4\" : \"before\",\n",
    "    \"bfn\" : \"bye for now\",\n",
    "    \"blvd\" : \"boulevard\",\n",
    "    \"bout\" : \"about\",\n",
    "    \"brb\" : \"be right back\",\n",
    "    \"bros\" : \"brothers\",\n",
    "    \"brt\" : \"be right there\",\n",
    "    \"bsaaw\" : \"big smile and a wink\",\n",
    "    \"btw\" : \"by the way\",\n",
    "    \"bwl\" : \"bursting with laughter\",\n",
    "    \"c/o\" : \"care of\",\n",
    "    \"cet\" : \"central european time\",\n",
    "    \"cf\" : \"compare\",\n",
    "    \"cia\" : \"central intelligence agency\",\n",
    "    \"csl\" : \"can not stop laughing\",\n",
    "    \"cu\" : \"see you\",\n",
    "    \"cul8r\" : \"see you later\",\n",
    "    \"cv\" : \"curriculum vitae\",\n",
    "    \"cwot\" : \"complete waste of time\",\n",
    "    \"cya\" : \"see you\",\n",
    "    \"cyt\" : \"see you tomorrow\",\n",
    "    \"dae\" : \"does anyone else\",\n",
    "    \"dbmib\" : \"do not bother me i am busy\",\n",
    "    \"diy\" : \"do it yourself\",\n",
    "    \"dm\" : \"direct message\",\n",
    "    \"dwh\" : \"during work hours\",\n",
    "    \"e123\" : \"easy as one two three\",\n",
    "    \"eet\" : \"eastern european time\",\n",
    "    \"eg\" : \"example\",\n",
    "    \"embm\" : \"early morning business meeting\",\n",
    "    \"encl\" : \"enclosed\",\n",
    "    \"encl.\" : \"enclosed\",\n",
    "    \"etc\" : \"and so on\",\n",
    "    \"faq\" : \"frequently asked questions\",\n",
    "    \"fawc\" : \"for anyone who cares\",\n",
    "    \"fb\" : \"facebook\",\n",
    "    \"fc\" : \"fingers crossed\",\n",
    "    \"fig\" : \"figure\",\n",
    "    \"fimh\" : \"forever in my heart\", \n",
    "    \"ft.\" : \"feet\",\n",
    "    \"ft\" : \"featuring\",\n",
    "    \"ftl\" : \"for the loss\",\n",
    "    \"ftw\" : \"for the win\",\n",
    "    \"fwiw\" : \"for what it is worth\",\n",
    "    \"fyi\" : \"for your information\",\n",
    "    \"g9\" : \"genius\",\n",
    "    \"gahoy\" : \"get a hold of yourself\",\n",
    "    \"gal\" : \"get a life\",\n",
    "    \"gcse\" : \"general certificate of secondary education\",\n",
    "    \"gfn\" : \"gone for now\",\n",
    "    \"gg\" : \"good game\",\n",
    "    \"gl\" : \"good luck\",\n",
    "    \"glhf\" : \"good luck have fun\",\n",
    "    \"gmt\" : \"greenwich mean time\",\n",
    "    \"gmta\" : \"great minds think alike\",\n",
    "    \"gn\" : \"good night\",\n",
    "    \"g.o.a.t\" : \"greatest of all time\",\n",
    "    \"goat\" : \"greatest of all time\",\n",
    "    \"goi\" : \"get over it\",\n",
    "    \"gps\" : \"global positioning system\",\n",
    "    \"gr8\" : \"great\",\n",
    "    \"gratz\" : \"congratulations\",\n",
    "    \"gyal\" : \"girl\",\n",
    "    \"h&c\" : \"hot and cold\",\n",
    "    \"hp\" : \"horsepower\",\n",
    "    \"hr\" : \"hour\",\n",
    "    \"hrh\" : \"his royal highness\",\n",
    "    \"ht\" : \"height\",\n",
    "    \"ibrb\" : \"i will be right back\",\n",
    "    \"ic\" : \"i see\",\n",
    "    \"icq\" : \"i seek you\",\n",
    "    \"icymi\" : \"in case you missed it\",\n",
    "    \"idc\" : \"i do not care\",\n",
    "    \"idgadf\" : \"i do not give a damn fuck\",\n",
    "    \"idgaf\" : \"i do not give a fuck\",\n",
    "    \"idk\" : \"i do not know\",\n",
    "    \"ie\" : \"that is\",\n",
    "    \"i.e\" : \"that is\",\n",
    "    \"ifyp\" : \"i feel your pain\",\n",
    "    \"IG\" : \"instagram\",\n",
    "    \"iirc\" : \"if i remember correctly\",\n",
    "    \"ilu\" : \"i love you\",\n",
    "    \"ily\" : \"i love you\",\n",
    "    \"imho\" : \"in my humble opinion\",\n",
    "    \"imo\" : \"in my opinion\",\n",
    "    \"imu\" : \"i miss you\",\n",
    "    \"iow\" : \"in other words\",\n",
    "    \"irl\" : \"in real life\",\n",
    "    \"j4f\" : \"just for fun\",\n",
    "    \"jic\" : \"just in case\",\n",
    "    \"jk\" : \"just kidding\",\n",
    "    \"jsyk\" : \"just so you know\",\n",
    "    \"l8r\" : \"later\",\n",
    "    \"lb\" : \"pound\",\n",
    "    \"lbs\" : \"pounds\",\n",
    "    \"ldr\" : \"long distance relationship\",\n",
    "    \"lmao\" : \"laugh my ass off\",\n",
    "    \"lmfao\" : \"laugh my fucking ass off\",\n",
    "    \"lol\" : \"laughing out loud\",\n",
    "    \"ltd\" : \"limited\",\n",
    "    \"ltns\" : \"long time no see\",\n",
    "    \"m8\" : \"mate\",\n",
    "    \"mf\" : \"motherfucker\",\n",
    "    \"mfs\" : \"motherfuckers\",\n",
    "    \"mfw\" : \"my face when\",\n",
    "    \"mofo\" : \"motherfucker\",\n",
    "    \"mph\" : \"miles per hour\",\n",
    "    \"mr\" : \"mister\",\n",
    "    \"mrw\" : \"my reaction when\",\n",
    "    \"ms\" : \"miss\",\n",
    "    \"mte\" : \"my thoughts exactly\",\n",
    "    \"nagi\" : \"not a good idea\",\n",
    "    \"nbc\" : \"national broadcasting company\",\n",
    "    \"nbd\" : \"not big deal\",\n",
    "    \"nfs\" : \"not for sale\",\n",
    "    \"ngl\" : \"not going to lie\",\n",
    "    \"nhs\" : \"national health service\",\n",
    "    \"nrn\" : \"no reply necessary\",\n",
    "    \"nsfl\" : \"not safe for life\",\n",
    "    \"nsfw\" : \"not safe for work\",\n",
    "    \"nth\" : \"nice to have\",\n",
    "    \"nvr\" : \"never\",\n",
    "    \"nyc\" : \"new york city\",\n",
    "    \"oc\" : \"original content\",\n",
    "    \"og\" : \"original\",\n",
    "    \"ohp\" : \"overhead projector\",\n",
    "    \"oic\" : \"oh i see\",\n",
    "    \"omdb\" : \"over my dead body\",\n",
    "    \"omg\" : \"oh my god\",\n",
    "    \"omw\" : \"on my way\",\n",
    "    \"p.a\" : \"per annum\",\n",
    "    \"p.m\" : \"after midday\",\n",
    "    \"pm\" : \"prime minister\",\n",
    "    \"poc\" : \"people of color\",\n",
    "    \"pov\" : \"point of view\",\n",
    "    \"pp\" : \"pages\",\n",
    "    \"ppl\" : \"people\",\n",
    "    \"prw\" : \"parents are watching\",\n",
    "    \"ps\" : \"postscript\",\n",
    "    \"pt\" : \"point\",\n",
    "    \"ptb\" : \"please text back\",\n",
    "    \"pto\" : \"please turn over\",\n",
    "    \"qpsa\" : \"what happens\", #\"que pasa\",\n",
    "    \"ratchet\" : \"rude\",\n",
    "    \"rbtl\" : \"read between the lines\",\n",
    "    \"rlrt\" : \"real life retweet\", \n",
    "    \"rofl\" : \"rolling on the floor laughing\",\n",
    "    \"roflol\" : \"rolling on the floor laughing out loud\",\n",
    "    \"rotflmao\" : \"rolling on the floor laughing my ass off\",\n",
    "    \"rt\" : \"retweet\",\n",
    "    \"ruok\" : \"are you ok\",\n",
    "    \"sfw\" : \"safe for work\",\n",
    "    \"sk8\" : \"skate\",\n",
    "    \"smh\" : \"shake my head\",\n",
    "    \"sq\" : \"square\",\n",
    "    \"srsly\" : \"seriously\", \n",
    "    \"ssdd\" : \"same stuff different day\",\n",
    "    \"tbh\" : \"to be honest\",\n",
    "    \"tbs\" : \"tablespooful\",\n",
    "    \"tbsp\" : \"tablespooful\",\n",
    "    \"tfw\" : \"that feeling when\",\n",
    "    \"thks\" : \"thank you\",\n",
    "    \"tho\" : \"though\",\n",
    "    \"thx\" : \"thank you\",\n",
    "    \"tia\" : \"thanks in advance\",\n",
    "    \"til\" : \"today i learned\",\n",
    "    \"tl;dr\" : \"too long i did not read\",\n",
    "    \"tldr\" : \"too long i did not read\",\n",
    "    \"tmb\" : \"tweet me back\",\n",
    "    \"tntl\" : \"trying not to laugh\",\n",
    "    \"ttyl\" : \"talk to you later\",\n",
    "    \"u\" : \"you\",\n",
    "    \"u2\" : \"you too\",\n",
    "    \"u4e\" : \"yours for ever\",\n",
    "    \"utc\" : \"coordinated universal time\",\n",
    "    \"w/\" : \"with\",\n",
    "    \"w/o\" : \"without\",\n",
    "    \"w8\" : \"wait\",\n",
    "    \"wassup\" : \"what is up\",\n",
    "    \"wb\" : \"welcome back\",\n",
    "    \"wtf\" : \"what the fuck\",\n",
    "    \"wtg\" : \"way to go\",\n",
    "    \"wtpa\" : \"where the party at\",\n",
    "    \"wuf\" : \"where are you from\",\n",
    "    \"wuzup\" : \"what is up\",\n",
    "    \"wywh\" : \"wish you were here\",\n",
    "    \"yd\" : \"yard\",\n",
    "    \"ygtr\" : \"you got that right\",\n",
    "    \"ynk\" : \"you never know\",\n",
    "    \"zzz\" : \"sleeping bored and tired\"\n",
    "}"
   ]
  },
  {
   "cell_type": "code",
   "execution_count": 32,
   "metadata": {},
   "outputs": [
    {
     "ename": "KeyboardInterrupt",
     "evalue": "",
     "output_type": "error",
     "traceback": [
      "\u001b[1;31m---------------------------------------------------------------------------\u001b[0m",
      "\u001b[1;31mKeyboardInterrupt\u001b[0m                         Traceback (most recent call last)",
      "Cell \u001b[1;32mIn[32], line 1\u001b[0m\n\u001b[1;32m----> 1\u001b[0m nlp \u001b[38;5;241m=\u001b[39m \u001b[43men_core_web_sm\u001b[49m\u001b[38;5;241;43m.\u001b[39;49m\u001b[43mload\u001b[49m\u001b[43m(\u001b[49m\u001b[43m)\u001b[49m\n",
      "File \u001b[1;32mc:\\Users\\Miguel\\miniforge3\\envs\\nlp_global_alumni\\lib\\site-packages\\en_core_web_sm\\__init__.py:10\u001b[0m, in \u001b[0;36mload\u001b[1;34m(**overrides)\u001b[0m\n\u001b[0;32m      9\u001b[0m \u001b[38;5;28;01mdef\u001b[39;00m \u001b[38;5;21mload\u001b[39m(\u001b[38;5;241m*\u001b[39m\u001b[38;5;241m*\u001b[39moverrides):\n\u001b[1;32m---> 10\u001b[0m     \u001b[38;5;28;01mreturn\u001b[39;00m load_model_from_init_py(\u001b[38;5;18m__file__\u001b[39m, \u001b[38;5;241m*\u001b[39m\u001b[38;5;241m*\u001b[39moverrides)\n",
      "File \u001b[1;32mc:\\Users\\Miguel\\miniforge3\\envs\\nlp_global_alumni\\lib\\site-packages\\spacy\\util.py:682\u001b[0m, in \u001b[0;36mload_model_from_init_py\u001b[1;34m(init_file, vocab, disable, enable, exclude, config)\u001b[0m\n\u001b[0;32m    680\u001b[0m \u001b[38;5;28;01mif\u001b[39;00m \u001b[38;5;129;01mnot\u001b[39;00m model_path\u001b[38;5;241m.\u001b[39mexists():\n\u001b[0;32m    681\u001b[0m     \u001b[38;5;28;01mraise\u001b[39;00m \u001b[38;5;167;01mIOError\u001b[39;00m(Errors\u001b[38;5;241m.\u001b[39mE052\u001b[38;5;241m.\u001b[39mformat(path\u001b[38;5;241m=\u001b[39mdata_path))\n\u001b[1;32m--> 682\u001b[0m \u001b[38;5;28;01mreturn\u001b[39;00m \u001b[43mload_model_from_path\u001b[49m\u001b[43m(\u001b[49m\n\u001b[0;32m    683\u001b[0m \u001b[43m    \u001b[49m\u001b[43mdata_path\u001b[49m\u001b[43m,\u001b[49m\n\u001b[0;32m    684\u001b[0m \u001b[43m    \u001b[49m\u001b[43mvocab\u001b[49m\u001b[38;5;241;43m=\u001b[39;49m\u001b[43mvocab\u001b[49m\u001b[43m,\u001b[49m\n\u001b[0;32m    685\u001b[0m \u001b[43m    \u001b[49m\u001b[43mmeta\u001b[49m\u001b[38;5;241;43m=\u001b[39;49m\u001b[43mmeta\u001b[49m\u001b[43m,\u001b[49m\n\u001b[0;32m    686\u001b[0m \u001b[43m    \u001b[49m\u001b[43mdisable\u001b[49m\u001b[38;5;241;43m=\u001b[39;49m\u001b[43mdisable\u001b[49m\u001b[43m,\u001b[49m\n\u001b[0;32m    687\u001b[0m \u001b[43m    \u001b[49m\u001b[43menable\u001b[49m\u001b[38;5;241;43m=\u001b[39;49m\u001b[43menable\u001b[49m\u001b[43m,\u001b[49m\n\u001b[0;32m    688\u001b[0m \u001b[43m    \u001b[49m\u001b[43mexclude\u001b[49m\u001b[38;5;241;43m=\u001b[39;49m\u001b[43mexclude\u001b[49m\u001b[43m,\u001b[49m\n\u001b[0;32m    689\u001b[0m \u001b[43m    \u001b[49m\u001b[43mconfig\u001b[49m\u001b[38;5;241;43m=\u001b[39;49m\u001b[43mconfig\u001b[49m\u001b[43m,\u001b[49m\n\u001b[0;32m    690\u001b[0m \u001b[43m\u001b[49m\u001b[43m)\u001b[49m\n",
      "File \u001b[1;32mc:\\Users\\Miguel\\miniforge3\\envs\\nlp_global_alumni\\lib\\site-packages\\spacy\\util.py:547\u001b[0m, in \u001b[0;36mload_model_from_path\u001b[1;34m(model_path, meta, vocab, disable, enable, exclude, config)\u001b[0m\n\u001b[0;32m    538\u001b[0m config \u001b[38;5;241m=\u001b[39m load_config(config_path, overrides\u001b[38;5;241m=\u001b[39moverrides)\n\u001b[0;32m    539\u001b[0m nlp \u001b[38;5;241m=\u001b[39m load_model_from_config(\n\u001b[0;32m    540\u001b[0m     config,\n\u001b[0;32m    541\u001b[0m     vocab\u001b[38;5;241m=\u001b[39mvocab,\n\u001b[1;32m   (...)\u001b[0m\n\u001b[0;32m    545\u001b[0m     meta\u001b[38;5;241m=\u001b[39mmeta,\n\u001b[0;32m    546\u001b[0m )\n\u001b[1;32m--> 547\u001b[0m \u001b[38;5;28;01mreturn\u001b[39;00m \u001b[43mnlp\u001b[49m\u001b[38;5;241;43m.\u001b[39;49m\u001b[43mfrom_disk\u001b[49m\u001b[43m(\u001b[49m\u001b[43mmodel_path\u001b[49m\u001b[43m,\u001b[49m\u001b[43m \u001b[49m\u001b[43mexclude\u001b[49m\u001b[38;5;241;43m=\u001b[39;49m\u001b[43mexclude\u001b[49m\u001b[43m,\u001b[49m\u001b[43m \u001b[49m\u001b[43moverrides\u001b[49m\u001b[38;5;241;43m=\u001b[39;49m\u001b[43moverrides\u001b[49m\u001b[43m)\u001b[49m\n",
      "File \u001b[1;32mc:\\Users\\Miguel\\miniforge3\\envs\\nlp_global_alumni\\lib\\site-packages\\spacy\\language.py:2206\u001b[0m, in \u001b[0;36mLanguage.from_disk\u001b[1;34m(self, path, exclude, overrides)\u001b[0m\n\u001b[0;32m   2203\u001b[0m \u001b[38;5;28;01mif\u001b[39;00m \u001b[38;5;129;01mnot\u001b[39;00m (path \u001b[38;5;241m/\u001b[39m \u001b[38;5;124m\"\u001b[39m\u001b[38;5;124mvocab\u001b[39m\u001b[38;5;124m\"\u001b[39m)\u001b[38;5;241m.\u001b[39mexists() \u001b[38;5;129;01mand\u001b[39;00m \u001b[38;5;124m\"\u001b[39m\u001b[38;5;124mvocab\u001b[39m\u001b[38;5;124m\"\u001b[39m \u001b[38;5;129;01mnot\u001b[39;00m \u001b[38;5;129;01min\u001b[39;00m exclude:  \u001b[38;5;66;03m# type: ignore[operator]\u001b[39;00m\n\u001b[0;32m   2204\u001b[0m     \u001b[38;5;66;03m# Convert to list here in case exclude is (default) tuple\u001b[39;00m\n\u001b[0;32m   2205\u001b[0m     exclude \u001b[38;5;241m=\u001b[39m \u001b[38;5;28mlist\u001b[39m(exclude) \u001b[38;5;241m+\u001b[39m [\u001b[38;5;124m\"\u001b[39m\u001b[38;5;124mvocab\u001b[39m\u001b[38;5;124m\"\u001b[39m]\n\u001b[1;32m-> 2206\u001b[0m \u001b[43mutil\u001b[49m\u001b[38;5;241;43m.\u001b[39;49m\u001b[43mfrom_disk\u001b[49m\u001b[43m(\u001b[49m\u001b[43mpath\u001b[49m\u001b[43m,\u001b[49m\u001b[43m \u001b[49m\u001b[43mdeserializers\u001b[49m\u001b[43m,\u001b[49m\u001b[43m \u001b[49m\u001b[43mexclude\u001b[49m\u001b[43m)\u001b[49m  \u001b[38;5;66;03m# type: ignore[arg-type]\u001b[39;00m\n\u001b[0;32m   2207\u001b[0m \u001b[38;5;28mself\u001b[39m\u001b[38;5;241m.\u001b[39m_path \u001b[38;5;241m=\u001b[39m path  \u001b[38;5;66;03m# type: ignore[assignment]\u001b[39;00m\n\u001b[0;32m   2208\u001b[0m \u001b[38;5;28mself\u001b[39m\u001b[38;5;241m.\u001b[39m_link_components()\n",
      "File \u001b[1;32mc:\\Users\\Miguel\\miniforge3\\envs\\nlp_global_alumni\\lib\\site-packages\\spacy\\util.py:1390\u001b[0m, in \u001b[0;36mfrom_disk\u001b[1;34m(path, readers, exclude)\u001b[0m\n\u001b[0;32m   1387\u001b[0m \u001b[38;5;28;01mfor\u001b[39;00m key, reader \u001b[38;5;129;01min\u001b[39;00m readers\u001b[38;5;241m.\u001b[39mitems():\n\u001b[0;32m   1388\u001b[0m     \u001b[38;5;66;03m# Split to support file names like meta.json\u001b[39;00m\n\u001b[0;32m   1389\u001b[0m     \u001b[38;5;28;01mif\u001b[39;00m key\u001b[38;5;241m.\u001b[39msplit(\u001b[38;5;124m\"\u001b[39m\u001b[38;5;124m.\u001b[39m\u001b[38;5;124m\"\u001b[39m)[\u001b[38;5;241m0\u001b[39m] \u001b[38;5;129;01mnot\u001b[39;00m \u001b[38;5;129;01min\u001b[39;00m exclude:\n\u001b[1;32m-> 1390\u001b[0m         \u001b[43mreader\u001b[49m\u001b[43m(\u001b[49m\u001b[43mpath\u001b[49m\u001b[43m \u001b[49m\u001b[38;5;241;43m/\u001b[39;49m\u001b[43m \u001b[49m\u001b[43mkey\u001b[49m\u001b[43m)\u001b[49m\n\u001b[0;32m   1391\u001b[0m \u001b[38;5;28;01mreturn\u001b[39;00m path\n",
      "File \u001b[1;32mc:\\Users\\Miguel\\miniforge3\\envs\\nlp_global_alumni\\lib\\site-packages\\spacy\\language.py:2200\u001b[0m, in \u001b[0;36mLanguage.from_disk.<locals>.<lambda>\u001b[1;34m(p, proc)\u001b[0m\n\u001b[0;32m   2198\u001b[0m     \u001b[38;5;28;01mif\u001b[39;00m \u001b[38;5;129;01mnot\u001b[39;00m \u001b[38;5;28mhasattr\u001b[39m(proc, \u001b[38;5;124m\"\u001b[39m\u001b[38;5;124mfrom_disk\u001b[39m\u001b[38;5;124m\"\u001b[39m):\n\u001b[0;32m   2199\u001b[0m         \u001b[38;5;28;01mcontinue\u001b[39;00m\n\u001b[1;32m-> 2200\u001b[0m     deserializers[name] \u001b[38;5;241m=\u001b[39m \u001b[38;5;28;01mlambda\u001b[39;00m p, proc\u001b[38;5;241m=\u001b[39mproc: \u001b[43mproc\u001b[49m\u001b[38;5;241;43m.\u001b[39;49m\u001b[43mfrom_disk\u001b[49m\u001b[43m(\u001b[49m\u001b[43m  \u001b[49m\u001b[38;5;66;43;03m# type: ignore[misc]\u001b[39;49;00m\n\u001b[0;32m   2201\u001b[0m \u001b[43m        \u001b[49m\u001b[43mp\u001b[49m\u001b[43m,\u001b[49m\u001b[43m \u001b[49m\u001b[43mexclude\u001b[49m\u001b[38;5;241;43m=\u001b[39;49m\u001b[43m[\u001b[49m\u001b[38;5;124;43m\"\u001b[39;49m\u001b[38;5;124;43mvocab\u001b[39;49m\u001b[38;5;124;43m\"\u001b[39;49m\u001b[43m]\u001b[49m\n\u001b[0;32m   2202\u001b[0m \u001b[43m    \u001b[49m\u001b[43m)\u001b[49m\n\u001b[0;32m   2203\u001b[0m \u001b[38;5;28;01mif\u001b[39;00m \u001b[38;5;129;01mnot\u001b[39;00m (path \u001b[38;5;241m/\u001b[39m \u001b[38;5;124m\"\u001b[39m\u001b[38;5;124mvocab\u001b[39m\u001b[38;5;124m\"\u001b[39m)\u001b[38;5;241m.\u001b[39mexists() \u001b[38;5;129;01mand\u001b[39;00m \u001b[38;5;124m\"\u001b[39m\u001b[38;5;124mvocab\u001b[39m\u001b[38;5;124m\"\u001b[39m \u001b[38;5;129;01mnot\u001b[39;00m \u001b[38;5;129;01min\u001b[39;00m exclude:  \u001b[38;5;66;03m# type: ignore[operator]\u001b[39;00m\n\u001b[0;32m   2204\u001b[0m     \u001b[38;5;66;03m# Convert to list here in case exclude is (default) tuple\u001b[39;00m\n\u001b[0;32m   2205\u001b[0m     exclude \u001b[38;5;241m=\u001b[39m \u001b[38;5;28mlist\u001b[39m(exclude) \u001b[38;5;241m+\u001b[39m [\u001b[38;5;124m\"\u001b[39m\u001b[38;5;124mvocab\u001b[39m\u001b[38;5;124m\"\u001b[39m]\n",
      "File \u001b[1;32mc:\\Users\\Miguel\\miniforge3\\envs\\nlp_global_alumni\\lib\\site-packages\\spacy\\pipeline\\lemmatizer.py:303\u001b[0m, in \u001b[0;36mLemmatizer.from_disk\u001b[1;34m(self, path, exclude)\u001b[0m\n\u001b[0;32m    301\u001b[0m deserialize[\u001b[38;5;124m\"\u001b[39m\u001b[38;5;124mvocab\u001b[39m\u001b[38;5;124m\"\u001b[39m] \u001b[38;5;241m=\u001b[39m \u001b[38;5;28;01mlambda\u001b[39;00m p: \u001b[38;5;28mself\u001b[39m\u001b[38;5;241m.\u001b[39mvocab\u001b[38;5;241m.\u001b[39mfrom_disk(p, exclude\u001b[38;5;241m=\u001b[39mexclude)\n\u001b[0;32m    302\u001b[0m deserialize[\u001b[38;5;124m\"\u001b[39m\u001b[38;5;124mlookups\u001b[39m\u001b[38;5;124m\"\u001b[39m] \u001b[38;5;241m=\u001b[39m \u001b[38;5;28;01mlambda\u001b[39;00m p: \u001b[38;5;28mself\u001b[39m\u001b[38;5;241m.\u001b[39mlookups\u001b[38;5;241m.\u001b[39mfrom_disk(p)\n\u001b[1;32m--> 303\u001b[0m \u001b[43mutil\u001b[49m\u001b[38;5;241;43m.\u001b[39;49m\u001b[43mfrom_disk\u001b[49m\u001b[43m(\u001b[49m\u001b[43mpath\u001b[49m\u001b[43m,\u001b[49m\u001b[43m \u001b[49m\u001b[43mdeserialize\u001b[49m\u001b[43m,\u001b[49m\u001b[43m \u001b[49m\u001b[43mexclude\u001b[49m\u001b[43m)\u001b[49m\n\u001b[0;32m    304\u001b[0m \u001b[38;5;28mself\u001b[39m\u001b[38;5;241m.\u001b[39m_validate_tables()\n\u001b[0;32m    305\u001b[0m \u001b[38;5;28;01mreturn\u001b[39;00m \u001b[38;5;28mself\u001b[39m\n",
      "File \u001b[1;32mc:\\Users\\Miguel\\miniforge3\\envs\\nlp_global_alumni\\lib\\site-packages\\spacy\\util.py:1390\u001b[0m, in \u001b[0;36mfrom_disk\u001b[1;34m(path, readers, exclude)\u001b[0m\n\u001b[0;32m   1387\u001b[0m \u001b[38;5;28;01mfor\u001b[39;00m key, reader \u001b[38;5;129;01min\u001b[39;00m readers\u001b[38;5;241m.\u001b[39mitems():\n\u001b[0;32m   1388\u001b[0m     \u001b[38;5;66;03m# Split to support file names like meta.json\u001b[39;00m\n\u001b[0;32m   1389\u001b[0m     \u001b[38;5;28;01mif\u001b[39;00m key\u001b[38;5;241m.\u001b[39msplit(\u001b[38;5;124m\"\u001b[39m\u001b[38;5;124m.\u001b[39m\u001b[38;5;124m\"\u001b[39m)[\u001b[38;5;241m0\u001b[39m] \u001b[38;5;129;01mnot\u001b[39;00m \u001b[38;5;129;01min\u001b[39;00m exclude:\n\u001b[1;32m-> 1390\u001b[0m         \u001b[43mreader\u001b[49m\u001b[43m(\u001b[49m\u001b[43mpath\u001b[49m\u001b[43m \u001b[49m\u001b[38;5;241;43m/\u001b[39;49m\u001b[43m \u001b[49m\u001b[43mkey\u001b[49m\u001b[43m)\u001b[49m\n\u001b[0;32m   1391\u001b[0m \u001b[38;5;28;01mreturn\u001b[39;00m path\n",
      "File \u001b[1;32mc:\\Users\\Miguel\\miniforge3\\envs\\nlp_global_alumni\\lib\\site-packages\\spacy\\pipeline\\lemmatizer.py:302\u001b[0m, in \u001b[0;36mLemmatizer.from_disk.<locals>.<lambda>\u001b[1;34m(p)\u001b[0m\n\u001b[0;32m    300\u001b[0m deserialize: Dict[\u001b[38;5;28mstr\u001b[39m, Callable[[Any], Any]] \u001b[38;5;241m=\u001b[39m {}\n\u001b[0;32m    301\u001b[0m deserialize[\u001b[38;5;124m\"\u001b[39m\u001b[38;5;124mvocab\u001b[39m\u001b[38;5;124m\"\u001b[39m] \u001b[38;5;241m=\u001b[39m \u001b[38;5;28;01mlambda\u001b[39;00m p: \u001b[38;5;28mself\u001b[39m\u001b[38;5;241m.\u001b[39mvocab\u001b[38;5;241m.\u001b[39mfrom_disk(p, exclude\u001b[38;5;241m=\u001b[39mexclude)\n\u001b[1;32m--> 302\u001b[0m deserialize[\u001b[38;5;124m\"\u001b[39m\u001b[38;5;124mlookups\u001b[39m\u001b[38;5;124m\"\u001b[39m] \u001b[38;5;241m=\u001b[39m \u001b[38;5;28;01mlambda\u001b[39;00m p: \u001b[38;5;28;43mself\u001b[39;49m\u001b[38;5;241;43m.\u001b[39;49m\u001b[43mlookups\u001b[49m\u001b[38;5;241;43m.\u001b[39;49m\u001b[43mfrom_disk\u001b[49m\u001b[43m(\u001b[49m\u001b[43mp\u001b[49m\u001b[43m)\u001b[49m\n\u001b[0;32m    303\u001b[0m util\u001b[38;5;241m.\u001b[39mfrom_disk(path, deserialize, exclude)\n\u001b[0;32m    304\u001b[0m \u001b[38;5;28mself\u001b[39m\u001b[38;5;241m.\u001b[39m_validate_tables()\n",
      "File \u001b[1;32mc:\\Users\\Miguel\\miniforge3\\envs\\nlp_global_alumni\\lib\\site-packages\\spacy\\lookups.py:313\u001b[0m, in \u001b[0;36mLookups.from_disk\u001b[1;34m(self, path, filename, **kwargs)\u001b[0m\n\u001b[0;32m    311\u001b[0m     \u001b[38;5;28;01mwith\u001b[39;00m filepath\u001b[38;5;241m.\u001b[39mopen(\u001b[38;5;124m\"\u001b[39m\u001b[38;5;124mrb\u001b[39m\u001b[38;5;124m\"\u001b[39m) \u001b[38;5;28;01mas\u001b[39;00m file_:\n\u001b[0;32m    312\u001b[0m         data \u001b[38;5;241m=\u001b[39m file_\u001b[38;5;241m.\u001b[39mread()\n\u001b[1;32m--> 313\u001b[0m     \u001b[38;5;28;01mreturn\u001b[39;00m \u001b[38;5;28;43mself\u001b[39;49m\u001b[38;5;241;43m.\u001b[39;49m\u001b[43mfrom_bytes\u001b[49m\u001b[43m(\u001b[49m\u001b[43mdata\u001b[49m\u001b[43m)\u001b[49m\n\u001b[0;32m    314\u001b[0m \u001b[38;5;28;01mreturn\u001b[39;00m \u001b[38;5;28mself\u001b[39m\n",
      "File \u001b[1;32mc:\\Users\\Miguel\\miniforge3\\envs\\nlp_global_alumni\\lib\\site-packages\\spacy\\lookups.py:276\u001b[0m, in \u001b[0;36mLookups.from_bytes\u001b[1;34m(self, bytes_data, **kwargs)\u001b[0m\n\u001b[0;32m    268\u001b[0m \u001b[38;5;250m\u001b[39m\u001b[38;5;124;03m\"\"\"Load the lookups from a bytestring.\u001b[39;00m\n\u001b[0;32m    269\u001b[0m \n\u001b[0;32m    270\u001b[0m \u001b[38;5;124;03mbytes_data (bytes): The data to load.\u001b[39;00m\n\u001b[1;32m   (...)\u001b[0m\n\u001b[0;32m    273\u001b[0m \u001b[38;5;124;03mDOCS: https://spacy.io/api/lookups#from_bytes\u001b[39;00m\n\u001b[0;32m    274\u001b[0m \u001b[38;5;124;03m\"\"\"\u001b[39;00m\n\u001b[0;32m    275\u001b[0m \u001b[38;5;28mself\u001b[39m\u001b[38;5;241m.\u001b[39m_tables \u001b[38;5;241m=\u001b[39m {}\n\u001b[1;32m--> 276\u001b[0m \u001b[38;5;28;01mfor\u001b[39;00m key, value \u001b[38;5;129;01min\u001b[39;00m \u001b[43msrsly\u001b[49m\u001b[38;5;241;43m.\u001b[39;49m\u001b[43mmsgpack_loads\u001b[49m\u001b[43m(\u001b[49m\u001b[43mbytes_data\u001b[49m\u001b[43m)\u001b[49m\u001b[38;5;241m.\u001b[39mitems():\n\u001b[0;32m    277\u001b[0m     \u001b[38;5;28mself\u001b[39m\u001b[38;5;241m.\u001b[39m_tables[key] \u001b[38;5;241m=\u001b[39m Table(key, value)\n\u001b[0;32m    278\u001b[0m \u001b[38;5;28;01mreturn\u001b[39;00m \u001b[38;5;28mself\u001b[39m\n",
      "File \u001b[1;32mc:\\Users\\Miguel\\miniforge3\\envs\\nlp_global_alumni\\lib\\site-packages\\srsly\\_msgpack_api.py:27\u001b[0m, in \u001b[0;36mmsgpack_loads\u001b[1;34m(data, use_list)\u001b[0m\n\u001b[0;32m     25\u001b[0m \u001b[38;5;66;03m# msgpack-python docs suggest disabling gc before unpacking large messages\u001b[39;00m\n\u001b[0;32m     26\u001b[0m gc\u001b[38;5;241m.\u001b[39mdisable()\n\u001b[1;32m---> 27\u001b[0m msg \u001b[38;5;241m=\u001b[39m \u001b[43mmsgpack\u001b[49m\u001b[38;5;241;43m.\u001b[39;49m\u001b[43mloads\u001b[49m\u001b[43m(\u001b[49m\u001b[43mdata\u001b[49m\u001b[43m,\u001b[49m\u001b[43m \u001b[49m\u001b[43mraw\u001b[49m\u001b[38;5;241;43m=\u001b[39;49m\u001b[38;5;28;43;01mFalse\u001b[39;49;00m\u001b[43m,\u001b[49m\u001b[43m \u001b[49m\u001b[43muse_list\u001b[49m\u001b[38;5;241;43m=\u001b[39;49m\u001b[43muse_list\u001b[49m\u001b[43m)\u001b[49m\n\u001b[0;32m     28\u001b[0m gc\u001b[38;5;241m.\u001b[39menable()\n\u001b[0;32m     29\u001b[0m \u001b[38;5;28;01mreturn\u001b[39;00m msg\n",
      "File \u001b[1;32mc:\\Users\\Miguel\\miniforge3\\envs\\nlp_global_alumni\\lib\\site-packages\\srsly\\msgpack\\__init__.py:79\u001b[0m, in \u001b[0;36munpackb\u001b[1;34m(packed, **kwargs)\u001b[0m\n\u001b[0;32m     77\u001b[0m         object_hook \u001b[38;5;241m=\u001b[39m functools\u001b[38;5;241m.\u001b[39mpartial(decoder, chain\u001b[38;5;241m=\u001b[39mobject_hook)\n\u001b[0;32m     78\u001b[0m     kwargs[\u001b[38;5;124m\"\u001b[39m\u001b[38;5;124mobject_hook\u001b[39m\u001b[38;5;124m\"\u001b[39m] \u001b[38;5;241m=\u001b[39m object_hook\n\u001b[1;32m---> 79\u001b[0m \u001b[38;5;28;01mreturn\u001b[39;00m _unpackb(packed, \u001b[38;5;241m*\u001b[39m\u001b[38;5;241m*\u001b[39mkwargs)\n",
      "File \u001b[1;32mc:\\Users\\Miguel\\miniforge3\\envs\\nlp_global_alumni\\lib\\site-packages\\srsly\\msgpack\\_unpacker.pyx:191\u001b[0m, in \u001b[0;36msrsly.msgpack._unpacker.unpackb\u001b[1;34m()\u001b[0m\n",
      "File \u001b[1;32mc:\\Users\\Miguel\\miniforge3\\envs\\nlp_global_alumni\\lib\\site-packages\\srsly\\msgpack\\_msgpack_numpy.py:89\u001b[0m, in \u001b[0;36mdecode_numpy\u001b[1;34m(obj, chain)\u001b[0m\n\u001b[0;32m     87\u001b[0m         descr \u001b[38;5;241m=\u001b[39m obj[\u001b[38;5;124mb\u001b[39m\u001b[38;5;124m\"\u001b[39m\u001b[38;5;124mtype\u001b[39m\u001b[38;5;124m\"\u001b[39m]\n\u001b[0;32m     88\u001b[0m         \u001b[38;5;28;01mreturn\u001b[39;00m np\u001b[38;5;241m.\u001b[39mfrombuffer(obj[\u001b[38;5;124mb\u001b[39m\u001b[38;5;124m\"\u001b[39m\u001b[38;5;124mdata\u001b[39m\u001b[38;5;124m\"\u001b[39m], dtype\u001b[38;5;241m=\u001b[39mnp\u001b[38;5;241m.\u001b[39mdtype(descr))[\u001b[38;5;241m0\u001b[39m]\n\u001b[1;32m---> 89\u001b[0m \u001b[38;5;28;01melif\u001b[39;00m \u001b[38;5;124;43mb\u001b[39;49m\u001b[38;5;124;43m\"\u001b[39;49m\u001b[38;5;124;43mcomplex\u001b[39;49m\u001b[38;5;124;43m\"\u001b[39;49m\u001b[43m \u001b[49m\u001b[38;5;129;43;01min\u001b[39;49;00m\u001b[43m \u001b[49m\u001b[43mobj\u001b[49m:\n\u001b[0;32m     90\u001b[0m     \u001b[38;5;28;01mreturn\u001b[39;00m \u001b[38;5;28mcomplex\u001b[39m(tostr(obj[\u001b[38;5;124mb\u001b[39m\u001b[38;5;124m\"\u001b[39m\u001b[38;5;124mdata\u001b[39m\u001b[38;5;124m\"\u001b[39m]))\n\u001b[0;32m     91\u001b[0m \u001b[38;5;28;01melse\u001b[39;00m:\n",
      "\u001b[1;31mKeyboardInterrupt\u001b[0m: "
     ]
    }
   ],
   "source": [
    "nlp = en_core_web_sm.load()"
   ]
  },
  {
   "cell_type": "code",
   "execution_count": 23,
   "metadata": {},
   "outputs": [],
   "source": [
    "spacy_stopwords = spacy.lang.en.stop_words.STOP_WORDS\n",
    "punctuation = string.punctuation"
   ]
  },
  {
   "cell_type": "code",
   "execution_count": 29,
   "metadata": {},
   "outputs": [],
   "source": [
    "def replace_slang(text):\n",
    "    words = text.split()\n",
    "    new_words = [slang_dict.get(word, word) for word in words]\n",
    "    return ' '.join(new_words)\n",
    "\n",
    "def normalize_elongations(text):\n",
    "    corrected_text = text\n",
    "    corrected_text = re.sub(r'(\\w)\\1{2,}', r'\\1\\1', corrected_text)\n",
    "    return corrected_text\n",
    "\n",
    "preprocess = preprocessing.make_pipeline(\n",
    "    preprocessing.normalize.hyphenated_words,\n",
    "    preprocessing.normalize.quotation_marks,\n",
    "    preprocessing.normalize.unicode,\n",
    "    preprocessing.remove.accents,\n",
    "    partial(preprocessing.replace.emails, repl=\"_EMAIL_\"),\n",
    "    partial(preprocessing.replace.phone_numbers, repl=\"_PhoneNumber_\"),\n",
    "    partial(preprocessing.replace.urls, repl=\"_URL_\"),\n",
    "    partial(preprocessing.replace.user_handles, repl=\"_UserHandle_\"),\n",
    "    partial(preprocessing.replace.numbers, repl=\"_NUMBER_\"),\n",
    "    preprocessing.remove.html_tags,\n",
    "    preprocessing.remove.brackets,\n",
    "    preprocessing.replace.currency_symbols,\n",
    "    preprocessing.replace.emojis,\n",
    "    replace_slang,\n",
    "    normalize_elongations,\n",
    "    contractions.fix\n",
    ")\n",
    "\n",
    "def tokenizer(sentence):\n",
    "\n",
    "    sentence = preprocess(sentence)\n",
    "\n",
    "    # sentence = str(TextBlob(sentence).correct())\n",
    "\n",
    "    my_tokens = nlp(sentence)\n",
    "\n",
    "    my_tokens = [word.lower_.strip() for word in my_tokens ]\n",
    "\n",
    "    my_tokens = [word for word in my_tokens if word not in spacy_stopwords and word not in punctuation]\n",
    "\n",
    "    return my_tokens"
   ]
  },
  {
   "cell_type": "code",
   "execution_count": 30,
   "metadata": {},
   "outputs": [
    {
     "name": "stderr",
     "output_type": "stream",
     "text": [
      "100%|██████████| 4684/4684 [01:58<00:00, 39.57it/s]\n"
     ]
    }
   ],
   "source": [
    "dataset[\"review_description_processed\"] = dataset[\"review_description\"].progress_apply(lambda x: tokenizer(x))"
   ]
  },
  {
   "cell_type": "markdown",
   "metadata": {},
   "source": [
    "## 2. Análisis exploratorio de los datos"
   ]
  },
  {
   "cell_type": "markdown",
   "metadata": {},
   "source": [
    "#### Términos más frecuentes"
   ]
  },
  {
   "cell_type": "code",
   "execution_count": 28,
   "metadata": {},
   "outputs": [
    {
     "ename": "KeyError",
     "evalue": "'review_description_processed'",
     "output_type": "error",
     "traceback": [
      "\u001b[1;31m---------------------------------------------------------------------------\u001b[0m",
      "\u001b[1;31mKeyError\u001b[0m                                  Traceback (most recent call last)",
      "File \u001b[1;32mc:\\Users\\Miguel\\miniforge3\\envs\\nlp_global_alumni\\lib\\site-packages\\pandas\\core\\indexes\\base.py:3805\u001b[0m, in \u001b[0;36mIndex.get_loc\u001b[1;34m(self, key)\u001b[0m\n\u001b[0;32m   3804\u001b[0m \u001b[38;5;28;01mtry\u001b[39;00m:\n\u001b[1;32m-> 3805\u001b[0m     \u001b[38;5;28;01mreturn\u001b[39;00m \u001b[38;5;28;43mself\u001b[39;49m\u001b[38;5;241;43m.\u001b[39;49m\u001b[43m_engine\u001b[49m\u001b[38;5;241;43m.\u001b[39;49m\u001b[43mget_loc\u001b[49m\u001b[43m(\u001b[49m\u001b[43mcasted_key\u001b[49m\u001b[43m)\u001b[49m\n\u001b[0;32m   3806\u001b[0m \u001b[38;5;28;01mexcept\u001b[39;00m \u001b[38;5;167;01mKeyError\u001b[39;00m \u001b[38;5;28;01mas\u001b[39;00m err:\n",
      "File \u001b[1;32mindex.pyx:167\u001b[0m, in \u001b[0;36mpandas._libs.index.IndexEngine.get_loc\u001b[1;34m()\u001b[0m\n",
      "File \u001b[1;32mindex.pyx:196\u001b[0m, in \u001b[0;36mpandas._libs.index.IndexEngine.get_loc\u001b[1;34m()\u001b[0m\n",
      "File \u001b[1;32mpandas\\\\_libs\\\\hashtable_class_helper.pxi:7081\u001b[0m, in \u001b[0;36mpandas._libs.hashtable.PyObjectHashTable.get_item\u001b[1;34m()\u001b[0m\n",
      "File \u001b[1;32mpandas\\\\_libs\\\\hashtable_class_helper.pxi:7089\u001b[0m, in \u001b[0;36mpandas._libs.hashtable.PyObjectHashTable.get_item\u001b[1;34m()\u001b[0m\n",
      "\u001b[1;31mKeyError\u001b[0m: 'review_description_processed'",
      "\nThe above exception was the direct cause of the following exception:\n",
      "\u001b[1;31mKeyError\u001b[0m                                  Traceback (most recent call last)",
      "Cell \u001b[1;32mIn[28], line 1\u001b[0m\n\u001b[1;32m----> 1\u001b[0m processed_descriptions \u001b[38;5;241m=\u001b[39m \u001b[43mdataset\u001b[49m\u001b[43m[\u001b[49m\u001b[38;5;124;43m'\u001b[39;49m\u001b[38;5;124;43mreview_description_processed\u001b[39;49m\u001b[38;5;124;43m'\u001b[39;49m\u001b[43m]\u001b[49m\u001b[38;5;241m.\u001b[39mapply(\u001b[38;5;28;01mlambda\u001b[39;00m x: \u001b[38;5;124m'\u001b[39m\u001b[38;5;124m,\u001b[39m\u001b[38;5;124m'\u001b[39m\u001b[38;5;241m.\u001b[39mjoin(x))\n\u001b[0;32m      3\u001b[0m long_string \u001b[38;5;241m=\u001b[39m \u001b[38;5;124m'\u001b[39m\u001b[38;5;124m,\u001b[39m\u001b[38;5;124m'\u001b[39m\u001b[38;5;241m.\u001b[39mjoin(processed_descriptions\u001b[38;5;241m.\u001b[39mvalues)\n\u001b[0;32m      5\u001b[0m wordcloud \u001b[38;5;241m=\u001b[39m WordCloud(background_color\u001b[38;5;241m=\u001b[39m\u001b[38;5;124m\"\u001b[39m\u001b[38;5;124mwhite\u001b[39m\u001b[38;5;124m\"\u001b[39m, max_words\u001b[38;5;241m=\u001b[39m\u001b[38;5;241m100\u001b[39m, contour_width\u001b[38;5;241m=\u001b[39m\u001b[38;5;241m0\u001b[39m, contour_color\u001b[38;5;241m=\u001b[39m\u001b[38;5;124m'\u001b[39m\u001b[38;5;124msteelblue\u001b[39m\u001b[38;5;124m'\u001b[39m)\n",
      "File \u001b[1;32mc:\\Users\\Miguel\\miniforge3\\envs\\nlp_global_alumni\\lib\\site-packages\\pandas\\core\\frame.py:4102\u001b[0m, in \u001b[0;36mDataFrame.__getitem__\u001b[1;34m(self, key)\u001b[0m\n\u001b[0;32m   4100\u001b[0m \u001b[38;5;28;01mif\u001b[39;00m \u001b[38;5;28mself\u001b[39m\u001b[38;5;241m.\u001b[39mcolumns\u001b[38;5;241m.\u001b[39mnlevels \u001b[38;5;241m>\u001b[39m \u001b[38;5;241m1\u001b[39m:\n\u001b[0;32m   4101\u001b[0m     \u001b[38;5;28;01mreturn\u001b[39;00m \u001b[38;5;28mself\u001b[39m\u001b[38;5;241m.\u001b[39m_getitem_multilevel(key)\n\u001b[1;32m-> 4102\u001b[0m indexer \u001b[38;5;241m=\u001b[39m \u001b[38;5;28;43mself\u001b[39;49m\u001b[38;5;241;43m.\u001b[39;49m\u001b[43mcolumns\u001b[49m\u001b[38;5;241;43m.\u001b[39;49m\u001b[43mget_loc\u001b[49m\u001b[43m(\u001b[49m\u001b[43mkey\u001b[49m\u001b[43m)\u001b[49m\n\u001b[0;32m   4103\u001b[0m \u001b[38;5;28;01mif\u001b[39;00m is_integer(indexer):\n\u001b[0;32m   4104\u001b[0m     indexer \u001b[38;5;241m=\u001b[39m [indexer]\n",
      "File \u001b[1;32mc:\\Users\\Miguel\\miniforge3\\envs\\nlp_global_alumni\\lib\\site-packages\\pandas\\core\\indexes\\base.py:3812\u001b[0m, in \u001b[0;36mIndex.get_loc\u001b[1;34m(self, key)\u001b[0m\n\u001b[0;32m   3807\u001b[0m     \u001b[38;5;28;01mif\u001b[39;00m \u001b[38;5;28misinstance\u001b[39m(casted_key, \u001b[38;5;28mslice\u001b[39m) \u001b[38;5;129;01mor\u001b[39;00m (\n\u001b[0;32m   3808\u001b[0m         \u001b[38;5;28misinstance\u001b[39m(casted_key, abc\u001b[38;5;241m.\u001b[39mIterable)\n\u001b[0;32m   3809\u001b[0m         \u001b[38;5;129;01mand\u001b[39;00m \u001b[38;5;28many\u001b[39m(\u001b[38;5;28misinstance\u001b[39m(x, \u001b[38;5;28mslice\u001b[39m) \u001b[38;5;28;01mfor\u001b[39;00m x \u001b[38;5;129;01min\u001b[39;00m casted_key)\n\u001b[0;32m   3810\u001b[0m     ):\n\u001b[0;32m   3811\u001b[0m         \u001b[38;5;28;01mraise\u001b[39;00m InvalidIndexError(key)\n\u001b[1;32m-> 3812\u001b[0m     \u001b[38;5;28;01mraise\u001b[39;00m \u001b[38;5;167;01mKeyError\u001b[39;00m(key) \u001b[38;5;28;01mfrom\u001b[39;00m \u001b[38;5;21;01merr\u001b[39;00m\n\u001b[0;32m   3813\u001b[0m \u001b[38;5;28;01mexcept\u001b[39;00m \u001b[38;5;167;01mTypeError\u001b[39;00m:\n\u001b[0;32m   3814\u001b[0m     \u001b[38;5;66;03m# If we have a listlike key, _check_indexing_error will raise\u001b[39;00m\n\u001b[0;32m   3815\u001b[0m     \u001b[38;5;66;03m#  InvalidIndexError. Otherwise we fall through and re-raise\u001b[39;00m\n\u001b[0;32m   3816\u001b[0m     \u001b[38;5;66;03m#  the TypeError.\u001b[39;00m\n\u001b[0;32m   3817\u001b[0m     \u001b[38;5;28mself\u001b[39m\u001b[38;5;241m.\u001b[39m_check_indexing_error(key)\n",
      "\u001b[1;31mKeyError\u001b[0m: 'review_description_processed'"
     ]
    }
   ],
   "source": [
    "processed_descriptions = dataset['review_description_processed'].apply(lambda x: ','.join(x))\n",
    "\n",
    "long_string = ','.join(processed_descriptions.values)\n",
    "\n",
    "wordcloud = WordCloud(background_color=\"white\", max_words=100, contour_width=0, contour_color='steelblue')\n",
    "\n",
    "wordcloud.generate(long_string)\n",
    "\n",
    "wordcloud.to_image()"
   ]
  },
  {
   "cell_type": "markdown",
   "metadata": {},
   "source": [
    "#### Diferencias en la distribución"
   ]
  },
  {
   "cell_type": "code",
   "execution_count": null,
   "metadata": {},
   "outputs": [
    {
     "name": "stdout",
     "output_type": "stream",
     "text": [
      "El número de palabras distintas para las reviews que recomiendan el producto es de 7844, mientras que el de las que no recomiendan es de 5110.\n"
     ]
    }
   ],
   "source": [
    "df_exploded = dataset[[\"review_description_processed\",\"recommended_review\"]].explode('review_description_processed')\n",
    "words_pos_neg = pd.DataFrame(df_exploded.value_counts()).reset_index(level=\"recommended_review\")\n",
    "\n",
    "words_positive = df_exploded.query(\"recommended_review == 1\")[\"review_description_processed\"].value_counts(normalize=True)\n",
    "words_negative = df_exploded.query(\"recommended_review == 0\")[\"review_description_processed\"].value_counts(normalize=True)\n",
    "\n",
    "print(f\"El número de palabras distintas para las reviews que recomiendan el producto es de {len(words_positive)}, mientras que el de las que no recomiendan es de {len(words_negative)}.\")"
   ]
  },
  {
   "cell_type": "code",
   "execution_count": null,
   "metadata": {},
   "outputs": [
    {
     "name": "stdout",
     "output_type": "stream",
     "text": [
      "Análisis descriptivo de las reviews que recomiendan el producto:\n"
     ]
    },
    {
     "data": {
      "text/plain": [
       "count    7844.000000\n",
       "mean        0.000127\n",
       "std         0.000696\n",
       "min         0.000015\n",
       "25%         0.000015\n",
       "50%         0.000029\n",
       "75%         0.000059\n",
       "max         0.040407\n",
       "Name: proportion, dtype: float64"
      ]
     },
     "metadata": {},
     "output_type": "display_data"
    },
    {
     "name": "stdout",
     "output_type": "stream",
     "text": [
      "\n",
      "Análisis descriptivo de las reviews que no recomiendan el producto:\n"
     ]
    },
    {
     "data": {
      "text/plain": [
       "count    5110.000000\n",
       "mean        0.000196\n",
       "std         0.000759\n",
       "min         0.000037\n",
       "25%         0.000037\n",
       "50%         0.000037\n",
       "75%         0.000147\n",
       "max         0.032443\n",
       "Name: proportion, dtype: float64"
      ]
     },
     "metadata": {},
     "output_type": "display_data"
    },
    {
     "data": {
      "image/png": "[encoded data removed]",
      "text/plain": [
       "<Figure size 1600x600 with 2 Axes>"
      ]
     },
     "metadata": {},
     "output_type": "display_data"
    }
   ],
   "source": [
    "print(\"Análisis descriptivo de las reviews que recomiendan el producto:\")\n",
    "display(words_positive.describe())\n",
    "print(\"\\nAnálisis descriptivo de las reviews que no recomiendan el producto:\")\n",
    "display(words_negative.describe())\n",
    "\n",
    "fig = plt.figure(figsize=(16,6))\n",
    "gs = gridspec.GridSpec(ncols=2,nrows=1)\n",
    "ax1 = fig.add_subplot(gs[:,0])\n",
    "sns.histplot(pd.DataFrame(words_positive[:100]),x=\"proportion\",bins=30, alpha=0.4, label=\"Recomiendan\")\n",
    "sns.histplot(pd.DataFrame(words_negative[:100]),x=\"proportion\",bins=30, alpha=0.4, label=\"No recomiendan\")\n",
    "fig.suptitle(\"Difference in distribution of top 100 words\",y=0.95)\n",
    "ax1.set_xlabel(\"Relative frequency of appearance by word\")\n",
    "fig.legend()\n",
    "\n",
    "ax2 = fig.add_subplot(gs[:,1])\n",
    "sns.boxplot(pd.DataFrame(words_positive[:100]),x=\"proportion\")\n",
    "sns.boxplot(pd.DataFrame(words_negative[:100]),x=\"proportion\")\n",
    "ax2.set_xlabel(\"Relative frequency of appearance by word\")\n",
    "\n",
    "\n",
    "\n",
    "plt.show()"
   ]
  },
  {
   "cell_type": "markdown",
   "metadata": {},
   "source": [
    "Observando la estadística descriptiva las reviews que recomiendan el producto hay ligeramente algo más de dispersión en cuanto a la frecuencia relativa de aparición de las palabras, sin embargo visualmente no se aprecia diferencia en su distribución. Conviene por lo tanto realizar un test de contraste chi-cuadrado para comprobar si la diferencia entre las distribuciones es significativa."
   ]
  },
  {
   "cell_type": "code",
   "execution_count": null,
   "metadata": {},
   "outputs": [
    {
     "name": "stdout",
     "output_type": "stream",
     "text": [
      "Chi-squared Statistic: 0.03734137750767689\n",
      "P-value: 1.0\n",
      "The difference in word distributions is not significant.\n"
     ]
    }
   ],
   "source": [
    "top_100_words_positive = (pd.DataFrame(words_positive[:100])\n",
    "                          .assign(not_recommended = words_negative[words_positive[:100].index].values,words = words_negative[words_positive[:100].index].index)\n",
    "                          .rename(columns={\"proportion\":\"recommended\"}))\n",
    "\n",
    "contingency_table = top_100_words_positive[['recommended', 'not_recommended']].values\n",
    "\n",
    "chi2, p, dof, expected = chi2_contingency(contingency_table)\n",
    "\n",
    "print(f\"Chi-squared Statistic: {chi2}\")\n",
    "print(f\"P-value: {p}\")\n",
    "if p < 0.05:\n",
    "    print(\"The difference in word distributions is significant.\")\n",
    "else:\n",
    "    print(\"The difference in word distributions is not significant.\")"
   ]
  },
  {
   "cell_type": "markdown",
   "metadata": {},
   "source": [
    "El test confirma lo que se apreciaba visualmente a través de los gráficos, no existe diferencia significativa entre las distribuciones. Este hecho podría estar en parte explicado por la alta incidencia de reviews promocionadas."
   ]
  },
  {
   "cell_type": "code",
   "execution_count": null,
   "metadata": {},
   "outputs": [
    {
     "data": {
      "image/png": "[encoded data removed]",
      "text/plain": [
       "<Figure size 2000x600 with 1 Axes>"
      ]
     },
     "metadata": {},
     "output_type": "display_data"
    }
   ],
   "source": [
    "top_20_words_positive_melted = pd.melt(top_100_words_positive[:20],id_vars=['words'], value_vars=['recommended', 'not_recommended'], \n",
    "                    var_name='recommended', value_name='count')\n",
    "\n",
    "# Histogramas de frecuencia de palabras\n",
    "plt.figure(figsize=(20, 6))\n",
    "\n",
    "sns.barplot(data = top_20_words_positive_melted, x=\"words\",y=\"count\",hue=\"recommended\",)\n",
    "\n",
    "plt.show()\n"
   ]
  },
  {
   "cell_type": "markdown",
   "metadata": {},
   "source": [
    "## 3. Análisis de sentimiento"
   ]
  },
  {
   "cell_type": "code",
   "execution_count": 27,
   "metadata": {},
   "outputs": [
    {
     "ename": "KeyboardInterrupt",
     "evalue": "",
     "output_type": "error",
     "traceback": [
      "\u001b[1;31m---------------------------------------------------------------------------\u001b[0m",
      "\u001b[1;31mKeyboardInterrupt\u001b[0m                         Traceback (most recent call last)",
      "Cell \u001b[1;32mIn[27], line 1\u001b[0m\n\u001b[1;32m----> 1\u001b[0m glove_emb_twitter \u001b[38;5;241m=\u001b[39m \u001b[43mapi\u001b[49m\u001b[38;5;241;43m.\u001b[39;49m\u001b[43mload\u001b[49m\u001b[43m(\u001b[49m\u001b[38;5;124;43m'\u001b[39;49m\u001b[38;5;124;43mglove-twitter-200\u001b[39;49m\u001b[38;5;124;43m'\u001b[39;49m\u001b[43m)\u001b[49m\n",
      "File \u001b[1;32mc:\\Users\\Miguel\\miniforge3\\envs\\nlp_global_alumni\\lib\\site-packages\\gensim\\downloader.py:503\u001b[0m, in \u001b[0;36mload\u001b[1;34m(name, return_path)\u001b[0m\n\u001b[0;32m    501\u001b[0m sys\u001b[38;5;241m.\u001b[39mpath\u001b[38;5;241m.\u001b[39minsert(\u001b[38;5;241m0\u001b[39m, BASE_DIR)\n\u001b[0;32m    502\u001b[0m module \u001b[38;5;241m=\u001b[39m \u001b[38;5;28m__import__\u001b[39m(name)\n\u001b[1;32m--> 503\u001b[0m \u001b[38;5;28;01mreturn\u001b[39;00m \u001b[43mmodule\u001b[49m\u001b[38;5;241;43m.\u001b[39;49m\u001b[43mload_data\u001b[49m\u001b[43m(\u001b[49m\u001b[43m)\u001b[49m\n",
      "File \u001b[1;32m~/gensim-data\\glove-twitter-200\\__init__.py:8\u001b[0m, in \u001b[0;36mload_data\u001b[1;34m()\u001b[0m\n\u001b[0;32m      6\u001b[0m \u001b[38;5;28;01mdef\u001b[39;00m \u001b[38;5;21mload_data\u001b[39m():\n\u001b[0;32m      7\u001b[0m \tpath \u001b[38;5;241m=\u001b[39m os\u001b[38;5;241m.\u001b[39mpath\u001b[38;5;241m.\u001b[39mjoin(base_dir, \u001b[38;5;124m'\u001b[39m\u001b[38;5;124mglove-twitter-200\u001b[39m\u001b[38;5;124m'\u001b[39m, \u001b[38;5;124m'\u001b[39m\u001b[38;5;124mglove-twitter-200.gz\u001b[39m\u001b[38;5;124m'\u001b[39m)\n\u001b[1;32m----> 8\u001b[0m \tmodel \u001b[38;5;241m=\u001b[39m \u001b[43mKeyedVectors\u001b[49m\u001b[38;5;241;43m.\u001b[39;49m\u001b[43mload_word2vec_format\u001b[49m\u001b[43m(\u001b[49m\u001b[43mpath\u001b[49m\u001b[43m)\u001b[49m\n\u001b[0;32m      9\u001b[0m \t\u001b[38;5;28;01mreturn\u001b[39;00m model\n",
      "File \u001b[1;32mc:\\Users\\Miguel\\miniforge3\\envs\\nlp_global_alumni\\lib\\site-packages\\gensim\\models\\keyedvectors.py:1719\u001b[0m, in \u001b[0;36mKeyedVectors.load_word2vec_format\u001b[1;34m(cls, fname, fvocab, binary, encoding, unicode_errors, limit, datatype, no_header)\u001b[0m\n\u001b[0;32m   1672\u001b[0m \u001b[38;5;129m@classmethod\u001b[39m\n\u001b[0;32m   1673\u001b[0m \u001b[38;5;28;01mdef\u001b[39;00m \u001b[38;5;21mload_word2vec_format\u001b[39m(\n\u001b[0;32m   1674\u001b[0m         \u001b[38;5;28mcls\u001b[39m, fname, fvocab\u001b[38;5;241m=\u001b[39m\u001b[38;5;28;01mNone\u001b[39;00m, binary\u001b[38;5;241m=\u001b[39m\u001b[38;5;28;01mFalse\u001b[39;00m, encoding\u001b[38;5;241m=\u001b[39m\u001b[38;5;124m'\u001b[39m\u001b[38;5;124mutf8\u001b[39m\u001b[38;5;124m'\u001b[39m, unicode_errors\u001b[38;5;241m=\u001b[39m\u001b[38;5;124m'\u001b[39m\u001b[38;5;124mstrict\u001b[39m\u001b[38;5;124m'\u001b[39m,\n\u001b[0;32m   1675\u001b[0m         limit\u001b[38;5;241m=\u001b[39m\u001b[38;5;28;01mNone\u001b[39;00m, datatype\u001b[38;5;241m=\u001b[39mREAL, no_header\u001b[38;5;241m=\u001b[39m\u001b[38;5;28;01mFalse\u001b[39;00m,\n\u001b[0;32m   1676\u001b[0m     ):\n\u001b[0;32m   1677\u001b[0m \u001b[38;5;250m    \u001b[39m\u001b[38;5;124;03m\"\"\"Load KeyedVectors from a file produced by the original C word2vec-tool format.\u001b[39;00m\n\u001b[0;32m   1678\u001b[0m \n\u001b[0;32m   1679\u001b[0m \u001b[38;5;124;03m    Warnings\u001b[39;00m\n\u001b[1;32m   (...)\u001b[0m\n\u001b[0;32m   1717\u001b[0m \n\u001b[0;32m   1718\u001b[0m \u001b[38;5;124;03m    \"\"\"\u001b[39;00m\n\u001b[1;32m-> 1719\u001b[0m     \u001b[38;5;28;01mreturn\u001b[39;00m \u001b[43m_load_word2vec_format\u001b[49m\u001b[43m(\u001b[49m\n\u001b[0;32m   1720\u001b[0m \u001b[43m        \u001b[49m\u001b[38;5;28;43mcls\u001b[39;49m\u001b[43m,\u001b[49m\u001b[43m \u001b[49m\u001b[43mfname\u001b[49m\u001b[43m,\u001b[49m\u001b[43m \u001b[49m\u001b[43mfvocab\u001b[49m\u001b[38;5;241;43m=\u001b[39;49m\u001b[43mfvocab\u001b[49m\u001b[43m,\u001b[49m\u001b[43m \u001b[49m\u001b[43mbinary\u001b[49m\u001b[38;5;241;43m=\u001b[39;49m\u001b[43mbinary\u001b[49m\u001b[43m,\u001b[49m\u001b[43m \u001b[49m\u001b[43mencoding\u001b[49m\u001b[38;5;241;43m=\u001b[39;49m\u001b[43mencoding\u001b[49m\u001b[43m,\u001b[49m\u001b[43m \u001b[49m\u001b[43municode_errors\u001b[49m\u001b[38;5;241;43m=\u001b[39;49m\u001b[43municode_errors\u001b[49m\u001b[43m,\u001b[49m\n\u001b[0;32m   1721\u001b[0m \u001b[43m        \u001b[49m\u001b[43mlimit\u001b[49m\u001b[38;5;241;43m=\u001b[39;49m\u001b[43mlimit\u001b[49m\u001b[43m,\u001b[49m\u001b[43m \u001b[49m\u001b[43mdatatype\u001b[49m\u001b[38;5;241;43m=\u001b[39;49m\u001b[43mdatatype\u001b[49m\u001b[43m,\u001b[49m\u001b[43m \u001b[49m\u001b[43mno_header\u001b[49m\u001b[38;5;241;43m=\u001b[39;49m\u001b[43mno_header\u001b[49m\u001b[43m,\u001b[49m\n\u001b[0;32m   1722\u001b[0m \u001b[43m    \u001b[49m\u001b[43m)\u001b[49m\n",
      "File \u001b[1;32mc:\\Users\\Miguel\\miniforge3\\envs\\nlp_global_alumni\\lib\\site-packages\\gensim\\models\\keyedvectors.py:2069\u001b[0m, in \u001b[0;36m_load_word2vec_format\u001b[1;34m(cls, fname, fvocab, binary, encoding, unicode_errors, limit, datatype, no_header, binary_chunk_size)\u001b[0m\n\u001b[0;32m   2065\u001b[0m         _word2vec_read_binary(\n\u001b[0;32m   2066\u001b[0m             fin, kv, counts, vocab_size, vector_size, datatype, unicode_errors, binary_chunk_size, encoding\n\u001b[0;32m   2067\u001b[0m         )\n\u001b[0;32m   2068\u001b[0m     \u001b[38;5;28;01melse\u001b[39;00m:\n\u001b[1;32m-> 2069\u001b[0m         \u001b[43m_word2vec_read_text\u001b[49m\u001b[43m(\u001b[49m\u001b[43mfin\u001b[49m\u001b[43m,\u001b[49m\u001b[43m \u001b[49m\u001b[43mkv\u001b[49m\u001b[43m,\u001b[49m\u001b[43m \u001b[49m\u001b[43mcounts\u001b[49m\u001b[43m,\u001b[49m\u001b[43m \u001b[49m\u001b[43mvocab_size\u001b[49m\u001b[43m,\u001b[49m\u001b[43m \u001b[49m\u001b[43mvector_size\u001b[49m\u001b[43m,\u001b[49m\u001b[43m \u001b[49m\u001b[43mdatatype\u001b[49m\u001b[43m,\u001b[49m\u001b[43m \u001b[49m\u001b[43municode_errors\u001b[49m\u001b[43m,\u001b[49m\u001b[43m \u001b[49m\u001b[43mencoding\u001b[49m\u001b[43m)\u001b[49m\n\u001b[0;32m   2070\u001b[0m \u001b[38;5;28;01mif\u001b[39;00m kv\u001b[38;5;241m.\u001b[39mvectors\u001b[38;5;241m.\u001b[39mshape[\u001b[38;5;241m0\u001b[39m] \u001b[38;5;241m!=\u001b[39m \u001b[38;5;28mlen\u001b[39m(kv):\n\u001b[0;32m   2071\u001b[0m     logger\u001b[38;5;241m.\u001b[39minfo(\n\u001b[0;32m   2072\u001b[0m         \u001b[38;5;124m\"\u001b[39m\u001b[38;5;124mduplicate words detected, shrinking matrix size from \u001b[39m\u001b[38;5;132;01m%i\u001b[39;00m\u001b[38;5;124m to \u001b[39m\u001b[38;5;132;01m%i\u001b[39;00m\u001b[38;5;124m\"\u001b[39m,\n\u001b[0;32m   2073\u001b[0m         kv\u001b[38;5;241m.\u001b[39mvectors\u001b[38;5;241m.\u001b[39mshape[\u001b[38;5;241m0\u001b[39m], \u001b[38;5;28mlen\u001b[39m(kv),\n\u001b[0;32m   2074\u001b[0m     )\n",
      "File \u001b[1;32mc:\\Users\\Miguel\\miniforge3\\envs\\nlp_global_alumni\\lib\\site-packages\\gensim\\models\\keyedvectors.py:1971\u001b[0m, in \u001b[0;36m_word2vec_read_text\u001b[1;34m(fin, kv, counts, vocab_size, vector_size, datatype, unicode_errors, encoding)\u001b[0m\n\u001b[0;32m   1969\u001b[0m \u001b[38;5;28;01mdef\u001b[39;00m \u001b[38;5;21m_word2vec_read_text\u001b[39m(fin, kv, counts, vocab_size, vector_size, datatype, unicode_errors, encoding):\n\u001b[0;32m   1970\u001b[0m     \u001b[38;5;28;01mfor\u001b[39;00m line_no \u001b[38;5;129;01min\u001b[39;00m \u001b[38;5;28mrange\u001b[39m(vocab_size):\n\u001b[1;32m-> 1971\u001b[0m         line \u001b[38;5;241m=\u001b[39m \u001b[43mfin\u001b[49m\u001b[38;5;241;43m.\u001b[39;49m\u001b[43mreadline\u001b[49m\u001b[43m(\u001b[49m\u001b[43m)\u001b[49m\n\u001b[0;32m   1972\u001b[0m         \u001b[38;5;28;01mif\u001b[39;00m line \u001b[38;5;241m==\u001b[39m \u001b[38;5;124mb\u001b[39m\u001b[38;5;124m'\u001b[39m\u001b[38;5;124m'\u001b[39m:\n\u001b[0;32m   1973\u001b[0m             \u001b[38;5;28;01mraise\u001b[39;00m \u001b[38;5;167;01mEOFError\u001b[39;00m(\u001b[38;5;124m\"\u001b[39m\u001b[38;5;124munexpected end of input; is count incorrect or file otherwise damaged?\u001b[39m\u001b[38;5;124m\"\u001b[39m)\n",
      "File \u001b[1;32mc:\\Users\\Miguel\\miniforge3\\envs\\nlp_global_alumni\\lib\\gzip.py:399\u001b[0m, in \u001b[0;36mGzipFile.readline\u001b[1;34m(self, size)\u001b[0m\n\u001b[0;32m    397\u001b[0m \u001b[38;5;28;01mdef\u001b[39;00m \u001b[38;5;21mreadline\u001b[39m(\u001b[38;5;28mself\u001b[39m, size\u001b[38;5;241m=\u001b[39m\u001b[38;5;241m-\u001b[39m\u001b[38;5;241m1\u001b[39m):\n\u001b[0;32m    398\u001b[0m     \u001b[38;5;28mself\u001b[39m\u001b[38;5;241m.\u001b[39m_check_not_closed()\n\u001b[1;32m--> 399\u001b[0m     \u001b[38;5;28;01mreturn\u001b[39;00m \u001b[38;5;28;43mself\u001b[39;49m\u001b[38;5;241;43m.\u001b[39;49m\u001b[43m_buffer\u001b[49m\u001b[38;5;241;43m.\u001b[39;49m\u001b[43mreadline\u001b[49m\u001b[43m(\u001b[49m\u001b[43msize\u001b[49m\u001b[43m)\u001b[49m\n",
      "File \u001b[1;32mc:\\Users\\Miguel\\miniforge3\\envs\\nlp_global_alumni\\lib\\_compression.py:68\u001b[0m, in \u001b[0;36mDecompressReader.readinto\u001b[1;34m(self, b)\u001b[0m\n\u001b[0;32m     66\u001b[0m \u001b[38;5;28;01mdef\u001b[39;00m \u001b[38;5;21mreadinto\u001b[39m(\u001b[38;5;28mself\u001b[39m, b):\n\u001b[0;32m     67\u001b[0m     \u001b[38;5;28;01mwith\u001b[39;00m \u001b[38;5;28mmemoryview\u001b[39m(b) \u001b[38;5;28;01mas\u001b[39;00m view, view\u001b[38;5;241m.\u001b[39mcast(\u001b[38;5;124m\"\u001b[39m\u001b[38;5;124mB\u001b[39m\u001b[38;5;124m\"\u001b[39m) \u001b[38;5;28;01mas\u001b[39;00m byte_view:\n\u001b[1;32m---> 68\u001b[0m         data \u001b[38;5;241m=\u001b[39m \u001b[38;5;28;43mself\u001b[39;49m\u001b[38;5;241;43m.\u001b[39;49m\u001b[43mread\u001b[49m\u001b[43m(\u001b[49m\u001b[38;5;28;43mlen\u001b[39;49m\u001b[43m(\u001b[49m\u001b[43mbyte_view\u001b[49m\u001b[43m)\u001b[49m\u001b[43m)\u001b[49m\n\u001b[0;32m     69\u001b[0m         byte_view[:\u001b[38;5;28mlen\u001b[39m(data)] \u001b[38;5;241m=\u001b[39m data\n\u001b[0;32m     70\u001b[0m     \u001b[38;5;28;01mreturn\u001b[39;00m \u001b[38;5;28mlen\u001b[39m(data)\n",
      "File \u001b[1;32mc:\\Users\\Miguel\\miniforge3\\envs\\nlp_global_alumni\\lib\\gzip.py:496\u001b[0m, in \u001b[0;36m_GzipReader.read\u001b[1;34m(self, size)\u001b[0m\n\u001b[0;32m    493\u001b[0m \u001b[38;5;66;03m# Read a chunk of data from the file\u001b[39;00m\n\u001b[0;32m    494\u001b[0m buf \u001b[38;5;241m=\u001b[39m \u001b[38;5;28mself\u001b[39m\u001b[38;5;241m.\u001b[39m_fp\u001b[38;5;241m.\u001b[39mread(io\u001b[38;5;241m.\u001b[39mDEFAULT_BUFFER_SIZE)\n\u001b[1;32m--> 496\u001b[0m uncompress \u001b[38;5;241m=\u001b[39m \u001b[38;5;28;43mself\u001b[39;49m\u001b[38;5;241;43m.\u001b[39;49m\u001b[43m_decompressor\u001b[49m\u001b[38;5;241;43m.\u001b[39;49m\u001b[43mdecompress\u001b[49m\u001b[43m(\u001b[49m\u001b[43mbuf\u001b[49m\u001b[43m,\u001b[49m\u001b[43m \u001b[49m\u001b[43msize\u001b[49m\u001b[43m)\u001b[49m\n\u001b[0;32m    497\u001b[0m \u001b[38;5;28;01mif\u001b[39;00m \u001b[38;5;28mself\u001b[39m\u001b[38;5;241m.\u001b[39m_decompressor\u001b[38;5;241m.\u001b[39munconsumed_tail \u001b[38;5;241m!=\u001b[39m \u001b[38;5;124mb\u001b[39m\u001b[38;5;124m\"\u001b[39m\u001b[38;5;124m\"\u001b[39m:\n\u001b[0;32m    498\u001b[0m     \u001b[38;5;28mself\u001b[39m\u001b[38;5;241m.\u001b[39m_fp\u001b[38;5;241m.\u001b[39mprepend(\u001b[38;5;28mself\u001b[39m\u001b[38;5;241m.\u001b[39m_decompressor\u001b[38;5;241m.\u001b[39munconsumed_tail)\n",
      "\u001b[1;31mKeyboardInterrupt\u001b[0m: "
     ]
    }
   ],
   "source": [
    "glove_emb_twitter = api.load('glove-twitter-200')"
   ]
  },
  {
   "cell_type": "code",
   "execution_count": null,
   "metadata": {},
   "outputs": [],
   "source": [
    "def get_embedding(tokens, embedding_dim):\n",
    "    embeddings = []\n",
    "    for token in tokens:\n",
    "        if token in glove_emb_twitter.index_to_key: \n",
    "            embeddings.append(glove_emb_twitter[token])\n",
    "        else:\n",
    "            embeddings.append(np.zeros(embedding_dim))  \n",
    "    if embeddings:\n",
    "        return np.mean(embeddings, axis=0)  \n",
    "    else:\n",
    "        return np.zeros(embedding_dim)  \n"
   ]
  },
  {
   "cell_type": "code",
   "execution_count": null,
   "metadata": {},
   "outputs": [
    {
     "name": "stderr",
     "output_type": "stream",
     "text": [
      "100%|██████████| 4684/4684 [02:29<00:00, 31.23it/s] \n"
     ]
    }
   ],
   "source": [
    "embedding_dim = glove_emb_twitter.vector_size  \n",
    "dataset[\"document_embeddings\"] = dataset[\"review_description_processed\"].progress_apply(lambda x: get_embedding(x,embedding_dim))"
   ]
  },
  {
   "cell_type": "code",
   "execution_count": 51,
   "metadata": {},
   "outputs": [
    {
     "name": "stderr",
     "output_type": "stream",
     "text": [
      "100%|██████████| 4684/4684 [00:00<00:00, 584845.20it/s]\n"
     ]
    }
   ],
   "source": [
    "def get_sentiment(rating):\n",
    "    if rating > 3:\n",
    "        return '2'\n",
    "    elif rating == 3:\n",
    "        return '1'\n",
    "    else:\n",
    "        return '0'\n",
    "\n",
    "dataset[\"label\"] = dataset['rating'].progress_apply(lambda x: get_sentiment(x))"
   ]
  },
  {
   "cell_type": "code",
   "execution_count": 54,
   "metadata": {},
   "outputs": [
    {
     "data": {
      "image/png": "[encoded data removed]",
      "text/plain": [
       "<Figure size 640x480 with 1 Axes>"
      ]
     },
     "metadata": {},
     "output_type": "display_data"
    }
   ],
   "source": [
    "sns.barplot(dataset[\"label\"])\n",
    "\n",
    "plt.show()"
   ]
  },
  {
   "cell_type": "code",
   "execution_count": 59,
   "metadata": {},
   "outputs": [],
   "source": [
    "encoder = OneHotEncoder(sparse_output=False)\n",
    "labels = encoder.fit_transform(dataset[\"label\"].to_numpy().reshape(-1, 1))"
   ]
  },
  {
   "cell_type": "code",
   "execution_count": 104,
   "metadata": {},
   "outputs": [
    {
     "data": {
      "text/html": [
       "<div>\n",
       "<style scoped>\n",
       "    .dataframe tbody tr th:only-of-type {\n",
       "        vertical-align: middle;\n",
       "    }\n",
       "\n",
       "    .dataframe tbody tr th {\n",
       "        vertical-align: top;\n",
       "    }\n",
       "\n",
       "    .dataframe thead th {\n",
       "        text-align: right;\n",
       "    }\n",
       "</style>\n",
       "<table border=\"1\" class=\"dataframe\">\n",
       "  <thead>\n",
       "    <tr style=\"text-align: right;\">\n",
       "      <th></th>\n",
       "      <th>0</th>\n",
       "      <th>1</th>\n",
       "      <th>2</th>\n",
       "      <th>3</th>\n",
       "      <th>4</th>\n",
       "      <th>5</th>\n",
       "      <th>6</th>\n",
       "      <th>7</th>\n",
       "      <th>8</th>\n",
       "      <th>9</th>\n",
       "      <th>...</th>\n",
       "      <th>190</th>\n",
       "      <th>191</th>\n",
       "      <th>192</th>\n",
       "      <th>193</th>\n",
       "      <th>194</th>\n",
       "      <th>195</th>\n",
       "      <th>196</th>\n",
       "      <th>197</th>\n",
       "      <th>198</th>\n",
       "      <th>199</th>\n",
       "    </tr>\n",
       "  </thead>\n",
       "  <tbody>\n",
       "    <tr>\n",
       "      <th>0</th>\n",
       "      <td>0.089642</td>\n",
       "      <td>0.173897</td>\n",
       "      <td>-0.018808</td>\n",
       "      <td>-0.022355</td>\n",
       "      <td>0.004840</td>\n",
       "      <td>-0.099518</td>\n",
       "      <td>0.408386</td>\n",
       "      <td>-0.029465</td>\n",
       "      <td>-0.029088</td>\n",
       "      <td>-0.058968</td>\n",
       "      <td>...</td>\n",
       "      <td>0.201645</td>\n",
       "      <td>0.041909</td>\n",
       "      <td>0.139821</td>\n",
       "      <td>0.047222</td>\n",
       "      <td>0.062017</td>\n",
       "      <td>-0.064410</td>\n",
       "      <td>-0.009863</td>\n",
       "      <td>0.125482</td>\n",
       "      <td>-0.057934</td>\n",
       "      <td>-0.086009</td>\n",
       "    </tr>\n",
       "    <tr>\n",
       "      <th>1</th>\n",
       "      <td>-0.019331</td>\n",
       "      <td>0.105160</td>\n",
       "      <td>-0.081120</td>\n",
       "      <td>0.012564</td>\n",
       "      <td>0.001201</td>\n",
       "      <td>0.078062</td>\n",
       "      <td>0.439015</td>\n",
       "      <td>0.008094</td>\n",
       "      <td>0.050861</td>\n",
       "      <td>-0.091967</td>\n",
       "      <td>...</td>\n",
       "      <td>0.119340</td>\n",
       "      <td>-0.086558</td>\n",
       "      <td>0.053499</td>\n",
       "      <td>-0.207730</td>\n",
       "      <td>0.019101</td>\n",
       "      <td>-0.092115</td>\n",
       "      <td>0.135180</td>\n",
       "      <td>0.188583</td>\n",
       "      <td>-0.049376</td>\n",
       "      <td>0.057160</td>\n",
       "    </tr>\n",
       "    <tr>\n",
       "      <th>2</th>\n",
       "      <td>-0.100705</td>\n",
       "      <td>0.201200</td>\n",
       "      <td>-0.016136</td>\n",
       "      <td>0.190166</td>\n",
       "      <td>-0.261518</td>\n",
       "      <td>0.100347</td>\n",
       "      <td>0.819073</td>\n",
       "      <td>-0.079485</td>\n",
       "      <td>0.098280</td>\n",
       "      <td>-0.150145</td>\n",
       "      <td>...</td>\n",
       "      <td>0.128618</td>\n",
       "      <td>0.127043</td>\n",
       "      <td>0.091690</td>\n",
       "      <td>0.130422</td>\n",
       "      <td>0.170817</td>\n",
       "      <td>0.184823</td>\n",
       "      <td>0.164864</td>\n",
       "      <td>0.195543</td>\n",
       "      <td>-0.073821</td>\n",
       "      <td>-0.073403</td>\n",
       "    </tr>\n",
       "    <tr>\n",
       "      <th>3</th>\n",
       "      <td>0.044449</td>\n",
       "      <td>0.016817</td>\n",
       "      <td>-0.006086</td>\n",
       "      <td>0.079389</td>\n",
       "      <td>-0.015144</td>\n",
       "      <td>0.054223</td>\n",
       "      <td>0.534071</td>\n",
       "      <td>-0.107516</td>\n",
       "      <td>0.001660</td>\n",
       "      <td>-0.074029</td>\n",
       "      <td>...</td>\n",
       "      <td>0.116998</td>\n",
       "      <td>-0.018058</td>\n",
       "      <td>0.085714</td>\n",
       "      <td>-0.030197</td>\n",
       "      <td>0.085261</td>\n",
       "      <td>0.044586</td>\n",
       "      <td>0.089985</td>\n",
       "      <td>0.150563</td>\n",
       "      <td>-0.115233</td>\n",
       "      <td>-0.043258</td>\n",
       "    </tr>\n",
       "    <tr>\n",
       "      <th>4</th>\n",
       "      <td>0.149975</td>\n",
       "      <td>0.089670</td>\n",
       "      <td>-0.132027</td>\n",
       "      <td>0.027844</td>\n",
       "      <td>0.021831</td>\n",
       "      <td>0.024241</td>\n",
       "      <td>0.378146</td>\n",
       "      <td>-0.123040</td>\n",
       "      <td>0.002373</td>\n",
       "      <td>-0.212843</td>\n",
       "      <td>...</td>\n",
       "      <td>0.225831</td>\n",
       "      <td>0.026689</td>\n",
       "      <td>0.187443</td>\n",
       "      <td>0.017594</td>\n",
       "      <td>0.108861</td>\n",
       "      <td>-0.100618</td>\n",
       "      <td>0.033249</td>\n",
       "      <td>0.096439</td>\n",
       "      <td>-0.053725</td>\n",
       "      <td>-0.151483</td>\n",
       "    </tr>\n",
       "    <tr>\n",
       "      <th>...</th>\n",
       "      <td>...</td>\n",
       "      <td>...</td>\n",
       "      <td>...</td>\n",
       "      <td>...</td>\n",
       "      <td>...</td>\n",
       "      <td>...</td>\n",
       "      <td>...</td>\n",
       "      <td>...</td>\n",
       "      <td>...</td>\n",
       "      <td>...</td>\n",
       "      <td>...</td>\n",
       "      <td>...</td>\n",
       "      <td>...</td>\n",
       "      <td>...</td>\n",
       "      <td>...</td>\n",
       "      <td>...</td>\n",
       "      <td>...</td>\n",
       "      <td>...</td>\n",
       "      <td>...</td>\n",
       "      <td>...</td>\n",
       "      <td>...</td>\n",
       "    </tr>\n",
       "    <tr>\n",
       "      <th>4679</th>\n",
       "      <td>0.129064</td>\n",
       "      <td>0.074593</td>\n",
       "      <td>0.102412</td>\n",
       "      <td>0.082405</td>\n",
       "      <td>0.019613</td>\n",
       "      <td>0.171794</td>\n",
       "      <td>0.601178</td>\n",
       "      <td>-0.093107</td>\n",
       "      <td>0.090304</td>\n",
       "      <td>-0.160947</td>\n",
       "      <td>...</td>\n",
       "      <td>-0.192061</td>\n",
       "      <td>0.221043</td>\n",
       "      <td>0.027595</td>\n",
       "      <td>-0.202401</td>\n",
       "      <td>-0.056568</td>\n",
       "      <td>-0.131701</td>\n",
       "      <td>0.076215</td>\n",
       "      <td>-0.075532</td>\n",
       "      <td>-0.242567</td>\n",
       "      <td>0.064445</td>\n",
       "    </tr>\n",
       "    <tr>\n",
       "      <th>4680</th>\n",
       "      <td>0.044088</td>\n",
       "      <td>0.037880</td>\n",
       "      <td>-0.140102</td>\n",
       "      <td>-0.053907</td>\n",
       "      <td>0.102341</td>\n",
       "      <td>0.161414</td>\n",
       "      <td>0.474508</td>\n",
       "      <td>-0.094232</td>\n",
       "      <td>-0.077800</td>\n",
       "      <td>-0.193805</td>\n",
       "      <td>...</td>\n",
       "      <td>0.006155</td>\n",
       "      <td>0.007535</td>\n",
       "      <td>0.160670</td>\n",
       "      <td>-0.074134</td>\n",
       "      <td>0.134922</td>\n",
       "      <td>0.033264</td>\n",
       "      <td>0.043000</td>\n",
       "      <td>0.034596</td>\n",
       "      <td>-0.023300</td>\n",
       "      <td>-0.049972</td>\n",
       "    </tr>\n",
       "    <tr>\n",
       "      <th>4681</th>\n",
       "      <td>-0.003781</td>\n",
       "      <td>0.095128</td>\n",
       "      <td>0.096301</td>\n",
       "      <td>-0.125647</td>\n",
       "      <td>0.047437</td>\n",
       "      <td>0.419568</td>\n",
       "      <td>0.342655</td>\n",
       "      <td>-0.138421</td>\n",
       "      <td>0.052031</td>\n",
       "      <td>-0.037666</td>\n",
       "      <td>...</td>\n",
       "      <td>-0.160776</td>\n",
       "      <td>-0.046990</td>\n",
       "      <td>0.226191</td>\n",
       "      <td>-0.081279</td>\n",
       "      <td>0.048172</td>\n",
       "      <td>-0.138890</td>\n",
       "      <td>0.078662</td>\n",
       "      <td>0.111261</td>\n",
       "      <td>-0.074735</td>\n",
       "      <td>0.066938</td>\n",
       "    </tr>\n",
       "    <tr>\n",
       "      <th>4682</th>\n",
       "      <td>-0.003403</td>\n",
       "      <td>0.281870</td>\n",
       "      <td>0.053236</td>\n",
       "      <td>-0.119257</td>\n",
       "      <td>0.107565</td>\n",
       "      <td>0.271948</td>\n",
       "      <td>0.244101</td>\n",
       "      <td>0.005816</td>\n",
       "      <td>-0.178191</td>\n",
       "      <td>-0.169257</td>\n",
       "      <td>...</td>\n",
       "      <td>-0.156800</td>\n",
       "      <td>-0.028390</td>\n",
       "      <td>0.264879</td>\n",
       "      <td>0.021369</td>\n",
       "      <td>0.119638</td>\n",
       "      <td>0.007679</td>\n",
       "      <td>0.147685</td>\n",
       "      <td>0.174180</td>\n",
       "      <td>-0.179976</td>\n",
       "      <td>0.337525</td>\n",
       "    </tr>\n",
       "    <tr>\n",
       "      <th>4683</th>\n",
       "      <td>-0.049905</td>\n",
       "      <td>0.106966</td>\n",
       "      <td>0.034462</td>\n",
       "      <td>-0.229396</td>\n",
       "      <td>0.000562</td>\n",
       "      <td>0.407124</td>\n",
       "      <td>0.348920</td>\n",
       "      <td>-0.126396</td>\n",
       "      <td>-0.059615</td>\n",
       "      <td>-0.199721</td>\n",
       "      <td>...</td>\n",
       "      <td>-0.034600</td>\n",
       "      <td>0.036502</td>\n",
       "      <td>0.164684</td>\n",
       "      <td>0.116197</td>\n",
       "      <td>0.009481</td>\n",
       "      <td>0.017992</td>\n",
       "      <td>-0.015552</td>\n",
       "      <td>0.037614</td>\n",
       "      <td>-0.075975</td>\n",
       "      <td>0.213224</td>\n",
       "    </tr>\n",
       "  </tbody>\n",
       "</table>\n",
       "<p>4684 rows × 200 columns</p>\n",
       "</div>"
      ],
      "text/plain": [
       "           0         1         2         3         4         5         6    \\\n",
       "0     0.089642  0.173897 -0.018808 -0.022355  0.004840 -0.099518  0.408386   \n",
       "1    -0.019331  0.105160 -0.081120  0.012564  0.001201  0.078062  0.439015   \n",
       "2    -0.100705  0.201200 -0.016136  0.190166 -0.261518  0.100347  0.819073   \n",
       "3     0.044449  0.016817 -0.006086  0.079389 -0.015144  0.054223  0.534071   \n",
       "4     0.149975  0.089670 -0.132027  0.027844  0.021831  0.024241  0.378146   \n",
       "...        ...       ...       ...       ...       ...       ...       ...   \n",
       "4679  0.129064  0.074593  0.102412  0.082405  0.019613  0.171794  0.601178   \n",
       "4680  0.044088  0.037880 -0.140102 -0.053907  0.102341  0.161414  0.474508   \n",
       "4681 -0.003781  0.095128  0.096301 -0.125647  0.047437  0.419568  0.342655   \n",
       "4682 -0.003403  0.281870  0.053236 -0.119257  0.107565  0.271948  0.244101   \n",
       "4683 -0.049905  0.106966  0.034462 -0.229396  0.000562  0.407124  0.348920   \n",
       "\n",
       "           7         8         9    ...       190       191       192  \\\n",
       "0    -0.029465 -0.029088 -0.058968  ...  0.201645  0.041909  0.139821   \n",
       "1     0.008094  0.050861 -0.091967  ...  0.119340 -0.086558  0.053499   \n",
       "2    -0.079485  0.098280 -0.150145  ...  0.128618  0.127043  0.091690   \n",
       "3    -0.107516  0.001660 -0.074029  ...  0.116998 -0.018058  0.085714   \n",
       "4    -0.123040  0.002373 -0.212843  ...  0.225831  0.026689  0.187443   \n",
       "...        ...       ...       ...  ...       ...       ...       ...   \n",
       "4679 -0.093107  0.090304 -0.160947  ... -0.192061  0.221043  0.027595   \n",
       "4680 -0.094232 -0.077800 -0.193805  ...  0.006155  0.007535  0.160670   \n",
       "4681 -0.138421  0.052031 -0.037666  ... -0.160776 -0.046990  0.226191   \n",
       "4682  0.005816 -0.178191 -0.169257  ... -0.156800 -0.028390  0.264879   \n",
       "4683 -0.126396 -0.059615 -0.199721  ... -0.034600  0.036502  0.164684   \n",
       "\n",
       "           193       194       195       196       197       198       199  \n",
       "0     0.047222  0.062017 -0.064410 -0.009863  0.125482 -0.057934 -0.086009  \n",
       "1    -0.207730  0.019101 -0.092115  0.135180  0.188583 -0.049376  0.057160  \n",
       "2     0.130422  0.170817  0.184823  0.164864  0.195543 -0.073821 -0.073403  \n",
       "3    -0.030197  0.085261  0.044586  0.089985  0.150563 -0.115233 -0.043258  \n",
       "4     0.017594  0.108861 -0.100618  0.033249  0.096439 -0.053725 -0.151483  \n",
       "...        ...       ...       ...       ...       ...       ...       ...  \n",
       "4679 -0.202401 -0.056568 -0.131701  0.076215 -0.075532 -0.242567  0.064445  \n",
       "4680 -0.074134  0.134922  0.033264  0.043000  0.034596 -0.023300 -0.049972  \n",
       "4681 -0.081279  0.048172 -0.138890  0.078662  0.111261 -0.074735  0.066938  \n",
       "4682  0.021369  0.119638  0.007679  0.147685  0.174180 -0.179976  0.337525  \n",
       "4683  0.116197  0.009481  0.017992 -0.015552  0.037614 -0.075975  0.213224  \n",
       "\n",
       "[4684 rows x 200 columns]"
      ]
     },
     "execution_count": 104,
     "metadata": {},
     "output_type": "execute_result"
    }
   ],
   "source": [
    "dataset[\"promoted\"]\n",
    "pd.DataFrame(dataset['document_embeddings'].tolist())"
   ]
  },
  {
   "cell_type": "code",
   "execution_count": 120,
   "metadata": {},
   "outputs": [],
   "source": [
    "X = pd.concat([pd.DataFrame(dataset['document_embeddings'].tolist()),dataset[\"promoted\"].reset_index(drop=True)],axis=1).values\n",
    "y = dataset[\"label\"]\n",
    "\n",
    "\n",
    "X_train, X_test, y_train, y_test = train_test_split(X, y, test_size=0.2, random_state=seed)"
   ]
  },
  {
   "cell_type": "markdown",
   "metadata": {},
   "source": [
    "Se pre-escogen 4 algoritmos de clasificación estándar para comparar el rendimiento de los mismos mediante validación cruzada con el area bajo la curva ROC (AUC) como métrica de clasificación. Se escoge esta métrica por ser agnóstica del punto de decisión o umbral de clasificación a diferencia de la precision y el recall o el f1, resumiendo el desempeño de todos los puntos ROC, y que funciona bien cuando las clases están balanceadas."
   ]
  },
  {
   "cell_type": "code",
   "execution_count": 122,
   "metadata": {},
   "outputs": [
    {
     "name": "stdout",
     "output_type": "stream",
     "text": [
      "Model: Logistic Regression\n",
      "ROC-AUC Score: 0.8367756088223598\n",
      "\n",
      "\n",
      "Model: Gaussian Naive Bayes\n",
      "ROC-AUC Score: 0.7616468039277814\n",
      "\n",
      "\n",
      "Model: Random Forest\n",
      "ROC-AUC Score: 0.7762100444143506\n",
      "\n",
      "\n",
      "Model: SVM\n",
      "ROC-AUC Score: 0.8227205351151629\n",
      "\n",
      "\n"
     ]
    }
   ],
   "source": [
    "def model_evaluation(models, X, y):\n",
    "    results = []\n",
    "    names = []\n",
    "    auc_scores = [] \n",
    "    \n",
    "    # For each model\n",
    "    for name, model in models:\n",
    "        warnings.filterwarnings('ignore') \n",
    "\n",
    "        KF = StratifiedKFold(n_splits=5, shuffle=True, random_state=seed)\n",
    "\n",
    "        # Compute ROC-AUC score using cross-validation\n",
    "        y_prob = cross_val_predict(model, X, y, cv=KF, method='predict_proba')\n",
    "        label_binarizer = LabelBinarizer()\n",
    "        y_bin = label_binarizer.fit_transform(y)\n",
    "        auc_score = roc_auc_score(y_bin, y_prob, average='macro')\n",
    "        auc_scores.append(auc_score)\n",
    "\n",
    "        results.append(auc_score)\n",
    "        names.append(name)\n",
    "        \n",
    "        print('Model:', name)\n",
    "        print(\"ROC-AUC Score:\", auc_score)\n",
    "        print(\"\\n\")\n",
    "\n",
    "    return results, names, auc_scores\n",
    "\n",
    "models = [\n",
    "    (\"Logistic Regression\", LogisticRegression(multi_class='multinomial',random_state=seed)),\n",
    "    (\"Gaussian Naive Bayes\", GaussianNB()),\n",
    "    (\"Random Forest\", RandomForestClassifier(random_state=seed)),\n",
    "    (\"SVM\", SVC(probability=True, random_state=seed)) \n",
    "]\n",
    "\n",
    "results, names, auc_scores = model_evaluation(models, X_train, y_train)\n"
   ]
  },
  {
   "cell_type": "markdown",
   "metadata": {},
   "source": []
  }
 ],
 "metadata": {
  "kernelspec": {
   "display_name": "NLP Environment",
   "language": "python",
   "name": "nlp_env"
  },
  "language_info": {
   "codemirror_mode": {
    "name": "ipython",
    "version": 3
   },
   "file_extension": ".py",
   "mimetype": "text/x-python",
   "name": "python",
   "nbconvert_exporter": "python",
   "pygments_lexer": "ipython3",
   "version": "3.10.14"
  }
 },
 "nbformat": 4,
 "nbformat_minor": 2
}
